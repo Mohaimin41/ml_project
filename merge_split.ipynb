{
 "cells": [
  {
   "cell_type": "code",
   "execution_count": 8,
   "metadata": {},
   "outputs": [],
   "source": [
    "import os\n",
    "import sys\n",
    "import pandas as pd\n",
    "import numpy as np\n",
    "import dask.dataframe as dd\n",
    "from dask.distributed import Client, LocalCluster\n",
    "\n",
    "def merge_shuffle_split_csvs(input_folder, output_folder, block_size=(1024*1024*1024*10), seed=42):\n",
    "    \"\"\"\n",
    "    Merge all CSV files in the input folder, shuffle the merged data, and split the result into 10GB blocks using Dask.\n",
    "\n",
    "    Parameters:\n",
    "    input_folder (str): Path to the folder containing the CSV files to be merged.\n",
    "    output_folder (str): Path to the folder where the output files will be saved.\n",
    "    block_size (int): Maximum size of each output file in bytes (default: 10GB).\n",
    "    seed (int): Random seed for reproducibility (default: 42).\n",
    "    \"\"\"\n",
    "    # Set up Dask client\n",
    "    cluster = LocalCluster(n_workers=4, threads_per_worker=2, memory_limit=\"8GB\")\n",
    "    client = Client(cluster)\n",
    "\n",
    "    # Read all CSV files into a Dask DataFrame\n",
    "    dfs = [dd.read_csv(os.path.join(input_folder, filename)) for filename in os.listdir(input_folder) if filename.endswith('.csv')]\n",
    "    merged_df = dd.concat(dfs, ignore_index=True)\n",
    "\n",
    "    # Shuffle the merged DataFrame\n",
    "    np.random.seed(seed)\n",
    "    merged_df = merged_df.sample(frac=1, random_state=seed).reset_index(drop=True)\n",
    "\n",
    "    # Split the shuffled DataFrame into blocks\n",
    "    block_count = 0\n",
    "    current_block_size = 0\n",
    "    current_block = []\n",
    "    for _, row in merged_df.iterrows():\n",
    "        row_size = sys.getsizeof(row.to_string())\n",
    "        if current_block_size + row_size <= block_size:\n",
    "            current_block.append(row)\n",
    "            current_block_size += row_size\n",
    "        else:\n",
    "            block_count += 1\n",
    "            block_filename = os.path.join(output_folder, f'output_block_{block_count}.csv')\n",
    "            pd.DataFrame(current_block).to_csv(block_filename, index=False)\n",
    "            print(f'Wrote {len(current_block)} rows to {block_filename}')\n",
    "            current_block = [row]\n",
    "            current_block_size = row_size\n",
    "\n",
    "    # Write the final block\n",
    "    if current_block:\n",
    "        block_count += 1\n",
    "        block_filename = os.path.join(output_folder, f'output_block_{block_count}.csv')\n",
    "        pd.DataFrame(current_block).to_csv(block_filename, index=False)\n",
    "        print(f'Wrote {len(current_block)} rows to {block_filename}')\n",
    "\n",
    "    print(f'Created {block_count} output files in {output_folder}')\n",
    "\n",
    "    # Close the Dask client\n",
    "    client.close()\n",
    "    cluster.close()\n",
    "\n",
    "\n"
   ]
  },
  {
   "cell_type": "code",
   "execution_count": null,
   "metadata": {},
   "outputs": [
    {
     "name": "stderr",
     "output_type": "stream",
     "text": [
      "c:\\Users\\ahmed\\miniconda3\\envs\\tf\\lib\\site-packages\\distributed\\node.py:182: UserWarning: Port 8787 is already in use.\n",
      "Perhaps you already have a cluster running?\n",
      "Hosting the HTTP server on port 53723 instead\n",
      "  warnings.warn(\n"
     ]
    }
   ],
   "source": [
    "\n",
    "merge_shuffle_split_csvs(\"dataset\\CSECICIDS2018_improved\", \"dataset\\CSECICIDS2018_improved\", block_size=1024*1024*1024*10, seed=42)"
   ]
  }
 ],
 "metadata": {
  "kernelspec": {
   "display_name": "Python 3",
   "language": "python",
   "name": "python3"
  },
  "language_info": {
   "codemirror_mode": {
    "name": "ipython",
    "version": 3
   },
   "file_extension": ".py",
   "mimetype": "text/x-python",
   "name": "python",
   "nbconvert_exporter": "python",
   "pygments_lexer": "ipython3",
   "version": "3.9.20"
  }
 },
 "nbformat": 4,
 "nbformat_minor": 2
}
