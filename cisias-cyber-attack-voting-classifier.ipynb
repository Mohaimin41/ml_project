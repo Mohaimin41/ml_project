{
 "cells": [
  {
   "cell_type": "code",
   "execution_count": 1,
   "id": "5877f3e0",
   "metadata": {
    "execution": {
     "iopub.execute_input": "2024-04-21T17:23:57.425648Z",
     "iopub.status.busy": "2024-04-21T17:23:57.424443Z",
     "iopub.status.idle": "2024-04-21T17:23:59.355829Z",
     "shell.execute_reply": "2024-04-21T17:23:59.354829Z"
    },
    "papermill": {
     "duration": 1.949468,
     "end_time": "2024-04-21T17:23:59.358477",
     "exception": false,
     "start_time": "2024-04-21T17:23:57.409009",
     "status": "completed"
    },
    "tags": []
   },
   "outputs": [],
   "source": [
    "#Libraries\n",
    "import pandas as pd\n",
    "import numpy as np\n",
    "import seaborn as sns\n",
    "import pickle\n",
    "\n",
    "import matplotlib.pyplot as plt\n",
    "\n",
    "from scipy import stats\n",
    "\n",
    "from sklearn.model_selection import train_test_split\n",
    "from sklearn.metrics import accuracy_score,recall_score,precision_score,f1_score,confusion_matrix\n",
    "from sklearn.ensemble import RandomForestClassifier"
   ]
  },
  {
   "cell_type": "markdown",
   "id": "18c142d2",
   "metadata": {
    "papermill": {
     "duration": 0.013845,
     "end_time": "2024-04-21T17:23:59.386672",
     "exception": false,
     "start_time": "2024-04-21T17:23:59.372827",
     "status": "completed"
    },
    "tags": []
   },
   "source": [
    "# Data preprocessing"
   ]
  },
  {
   "cell_type": "code",
   "execution_count": 2,
   "id": "26e32907",
   "metadata": {
    "execution": {
     "iopub.execute_input": "2024-04-21T17:23:59.418075Z",
     "iopub.status.busy": "2024-04-21T17:23:59.417642Z",
     "iopub.status.idle": "2024-04-21T17:24:11.622869Z",
     "shell.execute_reply": "2024-04-21T17:24:11.621801Z"
    },
    "papermill": {
     "duration": 12.223851,
     "end_time": "2024-04-21T17:24:11.625832",
     "exception": false,
     "start_time": "2024-04-21T17:23:59.401981",
     "status": "completed"
    },
    "tags": []
   },
   "outputs": [
    {
     "data": {
      "text/html": [
       "<div>\n",
       "<style scoped>\n",
       "    .dataframe tbody tr th:only-of-type {\n",
       "        vertical-align: middle;\n",
       "    }\n",
       "\n",
       "    .dataframe tbody tr th {\n",
       "        vertical-align: top;\n",
       "    }\n",
       "\n",
       "    .dataframe thead th {\n",
       "        text-align: right;\n",
       "    }\n",
       "</style>\n",
       "<table border=\"1\" class=\"dataframe\">\n",
       "  <thead>\n",
       "    <tr style=\"text-align: right;\">\n",
       "      <th></th>\n",
       "      <th>id</th>\n",
       "      <th>Flow ID</th>\n",
       "      <th>Src IP</th>\n",
       "      <th>Src Port</th>\n",
       "      <th>Dst IP</th>\n",
       "      <th>Dst Port</th>\n",
       "      <th>Protocol</th>\n",
       "      <th>Timestamp</th>\n",
       "      <th>Flow Duration</th>\n",
       "      <th>Total Fwd Packet</th>\n",
       "      <th>...</th>\n",
       "      <th>Active Min</th>\n",
       "      <th>Idle Mean</th>\n",
       "      <th>Idle Std</th>\n",
       "      <th>Idle Max</th>\n",
       "      <th>Idle Min</th>\n",
       "      <th>ICMP Code</th>\n",
       "      <th>ICMP Type</th>\n",
       "      <th>Total TCP Flow Time</th>\n",
       "      <th>Label</th>\n",
       "      <th>Attempted Category</th>\n",
       "    </tr>\n",
       "  </thead>\n",
       "  <tbody>\n",
       "    <tr>\n",
       "      <th>0</th>\n",
       "      <td>9566</td>\n",
       "      <td>172.31.66.5-172.31.0.2-52616-53-17</td>\n",
       "      <td>172.31.66.5</td>\n",
       "      <td>52616</td>\n",
       "      <td>172.31.0.2</td>\n",
       "      <td>53</td>\n",
       "      <td>17</td>\n",
       "      <td>2018-03-02 16:29:06.931601</td>\n",
       "      <td>376</td>\n",
       "      <td>1</td>\n",
       "      <td>...</td>\n",
       "      <td>0</td>\n",
       "      <td>0.000000e+00</td>\n",
       "      <td>0.000000e+00</td>\n",
       "      <td>0</td>\n",
       "      <td>0</td>\n",
       "      <td>-1</td>\n",
       "      <td>-1</td>\n",
       "      <td>0</td>\n",
       "      <td>BENIGN</td>\n",
       "      <td>-1</td>\n",
       "    </tr>\n",
       "    <tr>\n",
       "      <th>1</th>\n",
       "      <td>28027</td>\n",
       "      <td>189.240.58.174-172.31.64.111-30875-445-6</td>\n",
       "      <td>189.240.58.174</td>\n",
       "      <td>30875</td>\n",
       "      <td>172.31.64.111</td>\n",
       "      <td>445</td>\n",
       "      <td>6</td>\n",
       "      <td>2018-03-02 17:40:43.524669</td>\n",
       "      <td>85824</td>\n",
       "      <td>3</td>\n",
       "      <td>...</td>\n",
       "      <td>0</td>\n",
       "      <td>0.000000e+00</td>\n",
       "      <td>0.000000e+00</td>\n",
       "      <td>0</td>\n",
       "      <td>0</td>\n",
       "      <td>-1</td>\n",
       "      <td>-1</td>\n",
       "      <td>85824</td>\n",
       "      <td>BENIGN</td>\n",
       "      <td>-1</td>\n",
       "    </tr>\n",
       "    <tr>\n",
       "      <th>2</th>\n",
       "      <td>22862</td>\n",
       "      <td>50.78.235.65-172.31.64.111-62122-3389-6</td>\n",
       "      <td>50.78.235.65</td>\n",
       "      <td>62122</td>\n",
       "      <td>172.31.64.111</td>\n",
       "      <td>3389</td>\n",
       "      <td>6</td>\n",
       "      <td>2018-03-02 19:56:38.854763</td>\n",
       "      <td>1500865</td>\n",
       "      <td>8</td>\n",
       "      <td>...</td>\n",
       "      <td>0</td>\n",
       "      <td>0.000000e+00</td>\n",
       "      <td>0.000000e+00</td>\n",
       "      <td>0</td>\n",
       "      <td>0</td>\n",
       "      <td>-1</td>\n",
       "      <td>-1</td>\n",
       "      <td>1500865</td>\n",
       "      <td>BENIGN</td>\n",
       "      <td>-1</td>\n",
       "    </tr>\n",
       "    <tr>\n",
       "      <th>3</th>\n",
       "      <td>97769</td>\n",
       "      <td>172.31.64.125-72.167.239.239-49857-80-6</td>\n",
       "      <td>172.31.64.125</td>\n",
       "      <td>49857</td>\n",
       "      <td>72.167.239.239</td>\n",
       "      <td>80</td>\n",
       "      <td>6</td>\n",
       "      <td>2018-03-02 14:48:36.993247</td>\n",
       "      <td>5026340</td>\n",
       "      <td>5</td>\n",
       "      <td>...</td>\n",
       "      <td>0</td>\n",
       "      <td>0.000000e+00</td>\n",
       "      <td>0.000000e+00</td>\n",
       "      <td>0</td>\n",
       "      <td>0</td>\n",
       "      <td>-1</td>\n",
       "      <td>-1</td>\n",
       "      <td>5026340</td>\n",
       "      <td>BENIGN</td>\n",
       "      <td>-1</td>\n",
       "    </tr>\n",
       "    <tr>\n",
       "      <th>4</th>\n",
       "      <td>63598</td>\n",
       "      <td>212.92.116.6-172.31.64.118-63076-3389-6</td>\n",
       "      <td>212.92.116.6</td>\n",
       "      <td>63076</td>\n",
       "      <td>172.31.64.118</td>\n",
       "      <td>3389</td>\n",
       "      <td>6</td>\n",
       "      <td>2018-03-02 20:21:48.242490</td>\n",
       "      <td>1999761</td>\n",
       "      <td>8</td>\n",
       "      <td>...</td>\n",
       "      <td>0</td>\n",
       "      <td>0.000000e+00</td>\n",
       "      <td>0.000000e+00</td>\n",
       "      <td>0</td>\n",
       "      <td>0</td>\n",
       "      <td>-1</td>\n",
       "      <td>-1</td>\n",
       "      <td>1999761</td>\n",
       "      <td>BENIGN</td>\n",
       "      <td>-1</td>\n",
       "    </tr>\n",
       "    <tr>\n",
       "      <th>5</th>\n",
       "      <td>22710</td>\n",
       "      <td>172.31.64.111-172.31.0.2-49559-53-17</td>\n",
       "      <td>172.31.64.111</td>\n",
       "      <td>49559</td>\n",
       "      <td>172.31.0.2</td>\n",
       "      <td>53</td>\n",
       "      <td>17</td>\n",
       "      <td>2018-03-02 17:51:57.712862</td>\n",
       "      <td>12644</td>\n",
       "      <td>1</td>\n",
       "      <td>...</td>\n",
       "      <td>0</td>\n",
       "      <td>0.000000e+00</td>\n",
       "      <td>0.000000e+00</td>\n",
       "      <td>0</td>\n",
       "      <td>0</td>\n",
       "      <td>-1</td>\n",
       "      <td>-1</td>\n",
       "      <td>0</td>\n",
       "      <td>BENIGN</td>\n",
       "      <td>-1</td>\n",
       "    </tr>\n",
       "    <tr>\n",
       "      <th>6</th>\n",
       "      <td>85685</td>\n",
       "      <td>172.31.64.122-172.31.0.2-52430-53-17</td>\n",
       "      <td>172.31.64.122</td>\n",
       "      <td>52430</td>\n",
       "      <td>172.31.0.2</td>\n",
       "      <td>53</td>\n",
       "      <td>17</td>\n",
       "      <td>2018-03-02 19:45:21.717064</td>\n",
       "      <td>1841</td>\n",
       "      <td>1</td>\n",
       "      <td>...</td>\n",
       "      <td>0</td>\n",
       "      <td>0.000000e+00</td>\n",
       "      <td>0.000000e+00</td>\n",
       "      <td>0</td>\n",
       "      <td>0</td>\n",
       "      <td>-1</td>\n",
       "      <td>-1</td>\n",
       "      <td>0</td>\n",
       "      <td>BENIGN</td>\n",
       "      <td>-1</td>\n",
       "    </tr>\n",
       "    <tr>\n",
       "      <th>7</th>\n",
       "      <td>47382</td>\n",
       "      <td>172.31.64.115-107.22.237.128-50814-443-6</td>\n",
       "      <td>172.31.64.115</td>\n",
       "      <td>50814</td>\n",
       "      <td>107.22.237.128</td>\n",
       "      <td>443</td>\n",
       "      <td>6</td>\n",
       "      <td>2018-03-02 15:18:09.232065</td>\n",
       "      <td>68283367</td>\n",
       "      <td>34</td>\n",
       "      <td>...</td>\n",
       "      <td>11614</td>\n",
       "      <td>9.357901e+06</td>\n",
       "      <td>1.646643e+06</td>\n",
       "      <td>10003745</td>\n",
       "      <td>5625551</td>\n",
       "      <td>-1</td>\n",
       "      <td>-1</td>\n",
       "      <td>68283367</td>\n",
       "      <td>BENIGN</td>\n",
       "      <td>-1</td>\n",
       "    </tr>\n",
       "    <tr>\n",
       "      <th>8</th>\n",
       "      <td>77235</td>\n",
       "      <td>172.31.64.122-172.31.0.2-63402-53-17</td>\n",
       "      <td>172.31.64.122</td>\n",
       "      <td>63402</td>\n",
       "      <td>172.31.0.2</td>\n",
       "      <td>53</td>\n",
       "      <td>17</td>\n",
       "      <td>2018-03-02 14:21:26.531239</td>\n",
       "      <td>17686</td>\n",
       "      <td>1</td>\n",
       "      <td>...</td>\n",
       "      <td>0</td>\n",
       "      <td>0.000000e+00</td>\n",
       "      <td>0.000000e+00</td>\n",
       "      <td>0</td>\n",
       "      <td>0</td>\n",
       "      <td>-1</td>\n",
       "      <td>-1</td>\n",
       "      <td>0</td>\n",
       "      <td>BENIGN</td>\n",
       "      <td>-1</td>\n",
       "    </tr>\n",
       "    <tr>\n",
       "      <th>9</th>\n",
       "      <td>45712</td>\n",
       "      <td>172.31.64.115-172.31.0.2-56211-53-17</td>\n",
       "      <td>172.31.64.115</td>\n",
       "      <td>56211</td>\n",
       "      <td>172.31.0.2</td>\n",
       "      <td>53</td>\n",
       "      <td>17</td>\n",
       "      <td>2018-03-02 15:18:03.073673</td>\n",
       "      <td>963</td>\n",
       "      <td>1</td>\n",
       "      <td>...</td>\n",
       "      <td>0</td>\n",
       "      <td>0.000000e+00</td>\n",
       "      <td>0.000000e+00</td>\n",
       "      <td>0</td>\n",
       "      <td>0</td>\n",
       "      <td>-1</td>\n",
       "      <td>-1</td>\n",
       "      <td>0</td>\n",
       "      <td>BENIGN</td>\n",
       "      <td>-1</td>\n",
       "    </tr>\n",
       "  </tbody>\n",
       "</table>\n",
       "<p>10 rows × 91 columns</p>\n",
       "</div>"
      ],
      "text/plain": [
       "      id                                   Flow ID          Src IP  Src Port  \\\n",
       "0   9566        172.31.66.5-172.31.0.2-52616-53-17     172.31.66.5     52616   \n",
       "1  28027  189.240.58.174-172.31.64.111-30875-445-6  189.240.58.174     30875   \n",
       "2  22862   50.78.235.65-172.31.64.111-62122-3389-6    50.78.235.65     62122   \n",
       "3  97769   172.31.64.125-72.167.239.239-49857-80-6   172.31.64.125     49857   \n",
       "4  63598   212.92.116.6-172.31.64.118-63076-3389-6    212.92.116.6     63076   \n",
       "5  22710      172.31.64.111-172.31.0.2-49559-53-17   172.31.64.111     49559   \n",
       "6  85685      172.31.64.122-172.31.0.2-52430-53-17   172.31.64.122     52430   \n",
       "7  47382  172.31.64.115-107.22.237.128-50814-443-6   172.31.64.115     50814   \n",
       "8  77235      172.31.64.122-172.31.0.2-63402-53-17   172.31.64.122     63402   \n",
       "9  45712      172.31.64.115-172.31.0.2-56211-53-17   172.31.64.115     56211   \n",
       "\n",
       "           Dst IP  Dst Port  Protocol                   Timestamp  \\\n",
       "0      172.31.0.2        53        17  2018-03-02 16:29:06.931601   \n",
       "1   172.31.64.111       445         6  2018-03-02 17:40:43.524669   \n",
       "2   172.31.64.111      3389         6  2018-03-02 19:56:38.854763   \n",
       "3  72.167.239.239        80         6  2018-03-02 14:48:36.993247   \n",
       "4   172.31.64.118      3389         6  2018-03-02 20:21:48.242490   \n",
       "5      172.31.0.2        53        17  2018-03-02 17:51:57.712862   \n",
       "6      172.31.0.2        53        17  2018-03-02 19:45:21.717064   \n",
       "7  107.22.237.128       443         6  2018-03-02 15:18:09.232065   \n",
       "8      172.31.0.2        53        17  2018-03-02 14:21:26.531239   \n",
       "9      172.31.0.2        53        17  2018-03-02 15:18:03.073673   \n",
       "\n",
       "   Flow Duration  Total Fwd Packet  ...  Active Min     Idle Mean  \\\n",
       "0            376                 1  ...           0  0.000000e+00   \n",
       "1          85824                 3  ...           0  0.000000e+00   \n",
       "2        1500865                 8  ...           0  0.000000e+00   \n",
       "3        5026340                 5  ...           0  0.000000e+00   \n",
       "4        1999761                 8  ...           0  0.000000e+00   \n",
       "5          12644                 1  ...           0  0.000000e+00   \n",
       "6           1841                 1  ...           0  0.000000e+00   \n",
       "7       68283367                34  ...       11614  9.357901e+06   \n",
       "8          17686                 1  ...           0  0.000000e+00   \n",
       "9            963                 1  ...           0  0.000000e+00   \n",
       "\n",
       "       Idle Std  Idle Max  Idle Min  ICMP Code  ICMP Type  \\\n",
       "0  0.000000e+00         0         0         -1         -1   \n",
       "1  0.000000e+00         0         0         -1         -1   \n",
       "2  0.000000e+00         0         0         -1         -1   \n",
       "3  0.000000e+00         0         0         -1         -1   \n",
       "4  0.000000e+00         0         0         -1         -1   \n",
       "5  0.000000e+00         0         0         -1         -1   \n",
       "6  0.000000e+00         0         0         -1         -1   \n",
       "7  1.646643e+06  10003745   5625551         -1         -1   \n",
       "8  0.000000e+00         0         0         -1         -1   \n",
       "9  0.000000e+00         0         0         -1         -1   \n",
       "\n",
       "   Total TCP Flow Time   Label  Attempted Category  \n",
       "0                    0  BENIGN                  -1  \n",
       "1                85824  BENIGN                  -1  \n",
       "2              1500865  BENIGN                  -1  \n",
       "3              5026340  BENIGN                  -1  \n",
       "4              1999761  BENIGN                  -1  \n",
       "5                    0  BENIGN                  -1  \n",
       "6                    0  BENIGN                  -1  \n",
       "7             68283367  BENIGN                  -1  \n",
       "8                    0  BENIGN                  -1  \n",
       "9                    0  BENIGN                  -1  \n",
       "\n",
       "[10 rows x 91 columns]"
      ]
     },
     "execution_count": 2,
     "metadata": {},
     "output_type": "execute_result"
    }
   ],
   "source": [
    "df=pd.read_csv(\"D:\\ml_project\\dataset\\CSECICIDS2018_improved\\output_block_1.csv\")\n",
    "df.head(10) "
   ]
  },
  {
   "cell_type": "code",
   "execution_count": 3,
   "id": "b68ad79f",
   "metadata": {
    "execution": {
     "iopub.execute_input": "2024-04-21T17:24:11.657440Z",
     "iopub.status.busy": "2024-04-21T17:24:11.657034Z",
     "iopub.status.idle": "2024-04-21T17:24:13.222353Z",
     "shell.execute_reply": "2024-04-21T17:24:13.221313Z"
    },
    "papermill": {
     "duration": 1.586181,
     "end_time": "2024-04-21T17:24:13.227012",
     "exception": false,
     "start_time": "2024-04-21T17:24:11.640831",
     "status": "completed"
    },
    "tags": []
   },
   "outputs": [
    {
     "data": {
      "text/html": [
       "<div>\n",
       "<style scoped>\n",
       "    .dataframe tbody tr th:only-of-type {\n",
       "        vertical-align: middle;\n",
       "    }\n",
       "\n",
       "    .dataframe tbody tr th {\n",
       "        vertical-align: top;\n",
       "    }\n",
       "\n",
       "    .dataframe thead th {\n",
       "        text-align: right;\n",
       "    }\n",
       "</style>\n",
       "<table border=\"1\" class=\"dataframe\">\n",
       "  <thead>\n",
       "    <tr style=\"text-align: right;\">\n",
       "      <th></th>\n",
       "      <th>id</th>\n",
       "      <th>Src Port</th>\n",
       "      <th>Dst Port</th>\n",
       "      <th>Protocol</th>\n",
       "      <th>Flow Duration</th>\n",
       "      <th>Total Fwd Packet</th>\n",
       "      <th>Total Bwd packets</th>\n",
       "      <th>Total Length of Fwd Packet</th>\n",
       "      <th>Total Length of Bwd Packet</th>\n",
       "      <th>Fwd Packet Length Max</th>\n",
       "      <th>...</th>\n",
       "      <th>Active Max</th>\n",
       "      <th>Active Min</th>\n",
       "      <th>Idle Mean</th>\n",
       "      <th>Idle Std</th>\n",
       "      <th>Idle Max</th>\n",
       "      <th>Idle Min</th>\n",
       "      <th>ICMP Code</th>\n",
       "      <th>ICMP Type</th>\n",
       "      <th>Total TCP Flow Time</th>\n",
       "      <th>Attempted Category</th>\n",
       "    </tr>\n",
       "  </thead>\n",
       "  <tbody>\n",
       "    <tr>\n",
       "      <th>count</th>\n",
       "      <td>1.711963e+06</td>\n",
       "      <td>1.711963e+06</td>\n",
       "      <td>1.711963e+06</td>\n",
       "      <td>1.711963e+06</td>\n",
       "      <td>1.711963e+06</td>\n",
       "      <td>1.711963e+06</td>\n",
       "      <td>1.711963e+06</td>\n",
       "      <td>1.711963e+06</td>\n",
       "      <td>1.711963e+06</td>\n",
       "      <td>1.711963e+06</td>\n",
       "      <td>...</td>\n",
       "      <td>1.711963e+06</td>\n",
       "      <td>1.711963e+06</td>\n",
       "      <td>1.711963e+06</td>\n",
       "      <td>1.711963e+06</td>\n",
       "      <td>1.711963e+06</td>\n",
       "      <td>1.711963e+06</td>\n",
       "      <td>1.711963e+06</td>\n",
       "      <td>1.711963e+06</td>\n",
       "      <td>1.711963e+06</td>\n",
       "      <td>1711963.0</td>\n",
       "    </tr>\n",
       "    <tr>\n",
       "      <th>mean</th>\n",
       "      <td>8.567881e+05</td>\n",
       "      <td>5.243347e+04</td>\n",
       "      <td>1.140281e+03</td>\n",
       "      <td>1.020715e+01</td>\n",
       "      <td>1.950969e+07</td>\n",
       "      <td>7.365631e+00</td>\n",
       "      <td>9.034274e+00</td>\n",
       "      <td>1.063505e+03</td>\n",
       "      <td>5.784168e+03</td>\n",
       "      <td>3.395133e+02</td>\n",
       "      <td>...</td>\n",
       "      <td>4.637900e+05</td>\n",
       "      <td>3.737968e+05</td>\n",
       "      <td>1.033199e+07</td>\n",
       "      <td>6.672169e+05</td>\n",
       "      <td>1.082744e+07</td>\n",
       "      <td>9.786745e+06</td>\n",
       "      <td>-9.971933e-01</td>\n",
       "      <td>-9.857777e-01</td>\n",
       "      <td>1.562358e+08</td>\n",
       "      <td>-1.0</td>\n",
       "    </tr>\n",
       "    <tr>\n",
       "      <th>std</th>\n",
       "      <td>4.956158e+05</td>\n",
       "      <td>1.170716e+04</td>\n",
       "      <td>1.852220e+03</td>\n",
       "      <td>5.367527e+00</td>\n",
       "      <td>3.787872e+07</td>\n",
       "      <td>7.344015e+01</td>\n",
       "      <td>2.296447e+02</td>\n",
       "      <td>3.857189e+04</td>\n",
       "      <td>3.265618e+05</td>\n",
       "      <td>1.027853e+03</td>\n",
       "      <td>...</td>\n",
       "      <td>1.705071e+06</td>\n",
       "      <td>1.541703e+06</td>\n",
       "      <td>2.449311e+07</td>\n",
       "      <td>4.346589e+06</td>\n",
       "      <td>2.509103e+07</td>\n",
       "      <td>2.431514e+07</td>\n",
       "      <td>1.272786e-01</td>\n",
       "      <td>3.652604e-01</td>\n",
       "      <td>1.581749e+09</td>\n",
       "      <td>0.0</td>\n",
       "    </tr>\n",
       "    <tr>\n",
       "      <th>min</th>\n",
       "      <td>1.000000e+00</td>\n",
       "      <td>0.000000e+00</td>\n",
       "      <td>0.000000e+00</td>\n",
       "      <td>0.000000e+00</td>\n",
       "      <td>1.000000e+00</td>\n",
       "      <td>0.000000e+00</td>\n",
       "      <td>0.000000e+00</td>\n",
       "      <td>0.000000e+00</td>\n",
       "      <td>0.000000e+00</td>\n",
       "      <td>0.000000e+00</td>\n",
       "      <td>...</td>\n",
       "      <td>0.000000e+00</td>\n",
       "      <td>0.000000e+00</td>\n",
       "      <td>0.000000e+00</td>\n",
       "      <td>0.000000e+00</td>\n",
       "      <td>0.000000e+00</td>\n",
       "      <td>0.000000e+00</td>\n",
       "      <td>-1.000000e+00</td>\n",
       "      <td>-1.000000e+00</td>\n",
       "      <td>0.000000e+00</td>\n",
       "      <td>-1.0</td>\n",
       "    </tr>\n",
       "    <tr>\n",
       "      <th>25%</th>\n",
       "      <td>4.279915e+05</td>\n",
       "      <td>5.078200e+04</td>\n",
       "      <td>5.300000e+01</td>\n",
       "      <td>6.000000e+00</td>\n",
       "      <td>1.366000e+03</td>\n",
       "      <td>1.000000e+00</td>\n",
       "      <td>1.000000e+00</td>\n",
       "      <td>4.200000e+01</td>\n",
       "      <td>8.300000e+01</td>\n",
       "      <td>4.000000e+01</td>\n",
       "      <td>...</td>\n",
       "      <td>0.000000e+00</td>\n",
       "      <td>0.000000e+00</td>\n",
       "      <td>0.000000e+00</td>\n",
       "      <td>0.000000e+00</td>\n",
       "      <td>0.000000e+00</td>\n",
       "      <td>0.000000e+00</td>\n",
       "      <td>-1.000000e+00</td>\n",
       "      <td>-1.000000e+00</td>\n",
       "      <td>0.000000e+00</td>\n",
       "      <td>-1.0</td>\n",
       "    </tr>\n",
       "    <tr>\n",
       "      <th>50%</th>\n",
       "      <td>8.559820e+05</td>\n",
       "      <td>5.316100e+04</td>\n",
       "      <td>4.430000e+02</td>\n",
       "      <td>6.000000e+00</td>\n",
       "      <td>3.554010e+05</td>\n",
       "      <td>5.000000e+00</td>\n",
       "      <td>4.000000e+00</td>\n",
       "      <td>1.480000e+02</td>\n",
       "      <td>2.440000e+02</td>\n",
       "      <td>9.700000e+01</td>\n",
       "      <td>...</td>\n",
       "      <td>0.000000e+00</td>\n",
       "      <td>0.000000e+00</td>\n",
       "      <td>0.000000e+00</td>\n",
       "      <td>0.000000e+00</td>\n",
       "      <td>0.000000e+00</td>\n",
       "      <td>0.000000e+00</td>\n",
       "      <td>-1.000000e+00</td>\n",
       "      <td>-1.000000e+00</td>\n",
       "      <td>6.917230e+05</td>\n",
       "      <td>-1.0</td>\n",
       "    </tr>\n",
       "    <tr>\n",
       "      <th>75%</th>\n",
       "      <td>1.283972e+06</td>\n",
       "      <td>5.906400e+04</td>\n",
       "      <td>3.389000e+03</td>\n",
       "      <td>1.700000e+01</td>\n",
       "      <td>5.267440e+06</td>\n",
       "      <td>9.000000e+00</td>\n",
       "      <td>8.000000e+00</td>\n",
       "      <td>1.132000e+03</td>\n",
       "      <td>1.581000e+03</td>\n",
       "      <td>6.610000e+02</td>\n",
       "      <td>...</td>\n",
       "      <td>0.000000e+00</td>\n",
       "      <td>0.000000e+00</td>\n",
       "      <td>0.000000e+00</td>\n",
       "      <td>0.000000e+00</td>\n",
       "      <td>0.000000e+00</td>\n",
       "      <td>0.000000e+00</td>\n",
       "      <td>-1.000000e+00</td>\n",
       "      <td>-1.000000e+00</td>\n",
       "      <td>1.040025e+07</td>\n",
       "      <td>-1.0</td>\n",
       "    </tr>\n",
       "    <tr>\n",
       "      <th>max</th>\n",
       "      <td>1.787380e+06</td>\n",
       "      <td>6.553500e+04</td>\n",
       "      <td>6.542100e+04</td>\n",
       "      <td>1.700000e+01</td>\n",
       "      <td>1.200000e+08</td>\n",
       "      <td>3.615200e+04</td>\n",
       "      <td>1.220140e+05</td>\n",
       "      <td>8.885624e+06</td>\n",
       "      <td>1.556023e+08</td>\n",
       "      <td>4.995600e+04</td>\n",
       "      <td>...</td>\n",
       "      <td>1.115039e+08</td>\n",
       "      <td>1.115039e+08</td>\n",
       "      <td>1.199925e+08</td>\n",
       "      <td>7.206834e+07</td>\n",
       "      <td>1.199925e+08</td>\n",
       "      <td>1.199925e+08</td>\n",
       "      <td>1.300000e+01</td>\n",
       "      <td>1.300000e+01</td>\n",
       "      <td>4.273727e+10</td>\n",
       "      <td>-1.0</td>\n",
       "    </tr>\n",
       "  </tbody>\n",
       "</table>\n",
       "<p>8 rows × 86 columns</p>\n",
       "</div>"
      ],
      "text/plain": [
       "                 id      Src Port      Dst Port      Protocol  Flow Duration  \\\n",
       "count  1.711963e+06  1.711963e+06  1.711963e+06  1.711963e+06   1.711963e+06   \n",
       "mean   8.567881e+05  5.243347e+04  1.140281e+03  1.020715e+01   1.950969e+07   \n",
       "std    4.956158e+05  1.170716e+04  1.852220e+03  5.367527e+00   3.787872e+07   \n",
       "min    1.000000e+00  0.000000e+00  0.000000e+00  0.000000e+00   1.000000e+00   \n",
       "25%    4.279915e+05  5.078200e+04  5.300000e+01  6.000000e+00   1.366000e+03   \n",
       "50%    8.559820e+05  5.316100e+04  4.430000e+02  6.000000e+00   3.554010e+05   \n",
       "75%    1.283972e+06  5.906400e+04  3.389000e+03  1.700000e+01   5.267440e+06   \n",
       "max    1.787380e+06  6.553500e+04  6.542100e+04  1.700000e+01   1.200000e+08   \n",
       "\n",
       "       Total Fwd Packet  Total Bwd packets  Total Length of Fwd Packet  \\\n",
       "count      1.711963e+06       1.711963e+06                1.711963e+06   \n",
       "mean       7.365631e+00       9.034274e+00                1.063505e+03   \n",
       "std        7.344015e+01       2.296447e+02                3.857189e+04   \n",
       "min        0.000000e+00       0.000000e+00                0.000000e+00   \n",
       "25%        1.000000e+00       1.000000e+00                4.200000e+01   \n",
       "50%        5.000000e+00       4.000000e+00                1.480000e+02   \n",
       "75%        9.000000e+00       8.000000e+00                1.132000e+03   \n",
       "max        3.615200e+04       1.220140e+05                8.885624e+06   \n",
       "\n",
       "       Total Length of Bwd Packet  Fwd Packet Length Max  ...    Active Max  \\\n",
       "count                1.711963e+06           1.711963e+06  ...  1.711963e+06   \n",
       "mean                 5.784168e+03           3.395133e+02  ...  4.637900e+05   \n",
       "std                  3.265618e+05           1.027853e+03  ...  1.705071e+06   \n",
       "min                  0.000000e+00           0.000000e+00  ...  0.000000e+00   \n",
       "25%                  8.300000e+01           4.000000e+01  ...  0.000000e+00   \n",
       "50%                  2.440000e+02           9.700000e+01  ...  0.000000e+00   \n",
       "75%                  1.581000e+03           6.610000e+02  ...  0.000000e+00   \n",
       "max                  1.556023e+08           4.995600e+04  ...  1.115039e+08   \n",
       "\n",
       "         Active Min     Idle Mean      Idle Std      Idle Max      Idle Min  \\\n",
       "count  1.711963e+06  1.711963e+06  1.711963e+06  1.711963e+06  1.711963e+06   \n",
       "mean   3.737968e+05  1.033199e+07  6.672169e+05  1.082744e+07  9.786745e+06   \n",
       "std    1.541703e+06  2.449311e+07  4.346589e+06  2.509103e+07  2.431514e+07   \n",
       "min    0.000000e+00  0.000000e+00  0.000000e+00  0.000000e+00  0.000000e+00   \n",
       "25%    0.000000e+00  0.000000e+00  0.000000e+00  0.000000e+00  0.000000e+00   \n",
       "50%    0.000000e+00  0.000000e+00  0.000000e+00  0.000000e+00  0.000000e+00   \n",
       "75%    0.000000e+00  0.000000e+00  0.000000e+00  0.000000e+00  0.000000e+00   \n",
       "max    1.115039e+08  1.199925e+08  7.206834e+07  1.199925e+08  1.199925e+08   \n",
       "\n",
       "          ICMP Code     ICMP Type  Total TCP Flow Time  Attempted Category  \n",
       "count  1.711963e+06  1.711963e+06         1.711963e+06           1711963.0  \n",
       "mean  -9.971933e-01 -9.857777e-01         1.562358e+08                -1.0  \n",
       "std    1.272786e-01  3.652604e-01         1.581749e+09                 0.0  \n",
       "min   -1.000000e+00 -1.000000e+00         0.000000e+00                -1.0  \n",
       "25%   -1.000000e+00 -1.000000e+00         0.000000e+00                -1.0  \n",
       "50%   -1.000000e+00 -1.000000e+00         6.917230e+05                -1.0  \n",
       "75%   -1.000000e+00 -1.000000e+00         1.040025e+07                -1.0  \n",
       "max    1.300000e+01  1.300000e+01         4.273727e+10                -1.0  \n",
       "\n",
       "[8 rows x 86 columns]"
      ]
     },
     "execution_count": 3,
     "metadata": {},
     "output_type": "execute_result"
    }
   ],
   "source": [
    "df.describe()"
   ]
  },
  {
   "cell_type": "code",
   "execution_count": 4,
   "id": "d37e1dc0",
   "metadata": {
    "execution": {
     "iopub.execute_input": "2024-04-21T17:24:13.263910Z",
     "iopub.status.busy": "2024-04-21T17:24:13.263473Z",
     "iopub.status.idle": "2024-04-21T17:24:13.270044Z",
     "shell.execute_reply": "2024-04-21T17:24:13.268961Z"
    },
    "papermill": {
     "duration": 0.026243,
     "end_time": "2024-04-21T17:24:13.272432",
     "exception": false,
     "start_time": "2024-04-21T17:24:13.246189",
     "status": "completed"
    },
    "tags": []
   },
   "outputs": [
    {
     "data": {
      "text/plain": [
       "(1711963, 91)"
      ]
     },
     "execution_count": 4,
     "metadata": {},
     "output_type": "execute_result"
    }
   ],
   "source": [
    "df.shape"
   ]
  },
  {
   "cell_type": "markdown",
   "id": "0f7df74f",
   "metadata": {
    "papermill": {
     "duration": 0.015313,
     "end_time": "2024-04-21T17:24:13.303219",
     "exception": false,
     "start_time": "2024-04-21T17:24:13.287906",
     "status": "completed"
    },
    "tags": []
   },
   "source": [
    "## Data cleaning"
   ]
  },
  {
   "cell_type": "code",
   "execution_count": null,
   "id": "32c8ba82",
   "metadata": {
    "execution": {
     "iopub.execute_input": "2024-04-21T17:24:13.336655Z",
     "iopub.status.busy": "2024-04-21T17:24:13.335870Z",
     "iopub.status.idle": "2024-04-21T17:24:13.342375Z",
     "shell.execute_reply": "2024-04-21T17:24:13.341560Z"
    },
    "papermill": {
     "duration": 0.025859,
     "end_time": "2024-04-21T17:24:13.344676",
     "exception": false,
     "start_time": "2024-04-21T17:24:13.318817",
     "status": "completed"
    },
    "tags": []
   },
   "outputs": [],
   "source": [
    "def clean_data(df):\n",
    "    df.columns=df.columns.str.strip()\n",
    "    df.drop(columns=[\"id\",\"Flow ID\",\"Attempted Category\",\"Timestamp\",\"Src IP\",\"Dst IP\"],axis=1,inplace=True)\n",
    "    pd.set_option('use_inf_as_na',True)\n",
    "    df.dropna(axis=0,how='any',inplace=True)\n",
    "    "
   ]
  },
  {
   "cell_type": "code",
   "execution_count": null,
   "id": "42da6dd4",
   "metadata": {
    "execution": {
     "iopub.execute_input": "2024-04-21T17:24:13.380711Z",
     "iopub.status.busy": "2024-04-21T17:24:13.379944Z",
     "iopub.status.idle": "2024-04-21T17:24:13.389023Z",
     "shell.execute_reply": "2024-04-21T17:24:13.387835Z"
    },
    "papermill": {
     "duration": 0.028832,
     "end_time": "2024-04-21T17:24:13.391499",
     "exception": false,
     "start_time": "2024-04-21T17:24:13.362667",
     "status": "completed"
    },
    "tags": []
   },
   "outputs": [],
   "source": [
    "df.columns=df.columns.str.strip()\n",
    "df.columns"
   ]
  },
  {
   "cell_type": "code",
   "execution_count": null,
   "id": "ae506a66",
   "metadata": {
    "execution": {
     "iopub.execute_input": "2024-04-21T17:24:13.425101Z",
     "iopub.status.busy": "2024-04-21T17:24:13.424682Z",
     "iopub.status.idle": "2024-04-21T17:24:13.433545Z",
     "shell.execute_reply": "2024-04-21T17:24:13.432508Z"
    },
    "papermill": {
     "duration": 0.028645,
     "end_time": "2024-04-21T17:24:13.436062",
     "exception": false,
     "start_time": "2024-04-21T17:24:13.407417",
     "status": "completed"
    },
    "tags": []
   },
   "outputs": [],
   "source": [
    "cat=(df.dtypes=='object')\n",
    "cat[cat==True]"
   ]
  },
  {
   "cell_type": "code",
   "execution_count": null,
   "id": "1c24dd03",
   "metadata": {
    "execution": {
     "iopub.execute_input": "2024-04-21T17:24:13.470019Z",
     "iopub.status.busy": "2024-04-21T17:24:13.469586Z",
     "iopub.status.idle": "2024-04-21T17:24:13.581669Z",
     "shell.execute_reply": "2024-04-21T17:24:13.580184Z"
    },
    "papermill": {
     "duration": 0.132727,
     "end_time": "2024-04-21T17:24:13.584497",
     "exception": false,
     "start_time": "2024-04-21T17:24:13.451770",
     "status": "completed"
    },
    "tags": []
   },
   "outputs": [],
   "source": [
    "#removing categorical features and irrelevent columns\n",
    "df.drop(columns=[\"id\",\"Flow ID\",\"Attempted Category\",\"Timestamp\",\"Src IP\",\"Dst IP\"],axis=1,inplace=True)"
   ]
  },
  {
   "cell_type": "code",
   "execution_count": null,
   "id": "6d841236",
   "metadata": {
    "execution": {
     "iopub.execute_input": "2024-04-21T17:24:13.618407Z",
     "iopub.status.busy": "2024-04-21T17:24:13.618004Z",
     "iopub.status.idle": "2024-04-21T17:24:13.730680Z",
     "shell.execute_reply": "2024-04-21T17:24:13.729560Z"
    },
    "papermill": {
     "duration": 0.132808,
     "end_time": "2024-04-21T17:24:13.733305",
     "exception": false,
     "start_time": "2024-04-21T17:24:13.600497",
     "status": "completed"
    },
    "tags": []
   },
   "outputs": [],
   "source": [
    "df[\"Label\"].value_counts()"
   ]
  },
  {
   "cell_type": "code",
   "execution_count": null,
   "id": "7ff46e78",
   "metadata": {
    "execution": {
     "iopub.execute_input": "2024-04-21T17:24:13.767459Z",
     "iopub.status.busy": "2024-04-21T17:24:13.766610Z",
     "iopub.status.idle": "2024-04-21T17:24:13.877965Z",
     "shell.execute_reply": "2024-04-21T17:24:13.876721Z"
    },
    "papermill": {
     "duration": 0.131141,
     "end_time": "2024-04-21T17:24:13.880477",
     "exception": false,
     "start_time": "2024-04-21T17:24:13.749336",
     "status": "completed"
    },
    "tags": []
   },
   "outputs": [],
   "source": [
    "#testing for null values\n",
    "df.isnull().sum().sum()"
   ]
  },
  {
   "cell_type": "code",
   "execution_count": null,
   "id": "2e183456",
   "metadata": {
    "execution": {
     "iopub.execute_input": "2024-04-21T17:24:13.916238Z",
     "iopub.status.busy": "2024-04-21T17:24:13.915499Z",
     "iopub.status.idle": "2024-04-21T17:24:14.035022Z",
     "shell.execute_reply": "2024-04-21T17:24:14.033730Z"
    },
    "papermill": {
     "duration": 0.140617,
     "end_time": "2024-04-21T17:24:14.038708",
     "exception": false,
     "start_time": "2024-04-21T17:24:13.898091",
     "status": "completed"
    },
    "tags": []
   },
   "outputs": [],
   "source": [
    "#testing for inf values\n",
    "pd.set_option('use_inf_as_na',True)\n",
    "vc=df.isnull().sum()\n",
    "vc[vc!=0]"
   ]
  },
  {
   "cell_type": "code",
   "execution_count": null,
   "id": "21c105a1",
   "metadata": {
    "execution": {
     "iopub.execute_input": "2024-04-21T17:24:14.073640Z",
     "iopub.status.busy": "2024-04-21T17:24:14.072939Z",
     "iopub.status.idle": "2024-04-21T17:24:14.319590Z",
     "shell.execute_reply": "2024-04-21T17:24:14.318339Z"
    },
    "papermill": {
     "duration": 0.267757,
     "end_time": "2024-04-21T17:24:14.322564",
     "exception": false,
     "start_time": "2024-04-21T17:24:14.054807",
     "status": "completed"
    },
    "tags": []
   },
   "outputs": [],
   "source": [
    "#removing null values and inf values\n",
    "df.dropna(axis=0,how='any',inplace=True)"
   ]
  },
  {
   "cell_type": "code",
   "execution_count": null,
   "id": "744cff18",
   "metadata": {
    "execution": {
     "iopub.execute_input": "2024-04-21T17:24:14.356962Z",
     "iopub.status.busy": "2024-04-21T17:24:14.356539Z",
     "iopub.status.idle": "2024-04-21T17:24:14.362360Z",
     "shell.execute_reply": "2024-04-21T17:24:14.361180Z"
    },
    "papermill": {
     "duration": 0.02602,
     "end_time": "2024-04-21T17:24:14.364880",
     "exception": false,
     "start_time": "2024-04-21T17:24:14.338860",
     "status": "completed"
    },
    "tags": []
   },
   "outputs": [],
   "source": [
    "def label_map(label):\n",
    "    if label in (0,1): #important for reusability\n",
    "        return label\n",
    "    elif label == 'BENIGN':\n",
    "        return 0\n",
    "    else:\n",
    "        return 1"
   ]
  },
  {
   "cell_type": "code",
   "execution_count": null,
   "id": "18fd89c1",
   "metadata": {
    "execution": {
     "iopub.execute_input": "2024-04-21T17:24:14.399154Z",
     "iopub.status.busy": "2024-04-21T17:24:14.398709Z",
     "iopub.status.idle": "2024-04-21T17:24:14.877080Z",
     "shell.execute_reply": "2024-04-21T17:24:14.875842Z"
    },
    "papermill": {
     "duration": 0.498629,
     "end_time": "2024-04-21T17:24:14.879789",
     "exception": false,
     "start_time": "2024-04-21T17:24:14.381160",
     "status": "completed"
    },
    "tags": []
   },
   "outputs": [],
   "source": [
    "df['Label'] = df['Label'].apply(label_map)\n",
    "df['Label'].value_counts()"
   ]
  },
  {
   "cell_type": "code",
   "execution_count": null,
   "id": "b8be1c89",
   "metadata": {
    "execution": {
     "iopub.execute_input": "2024-04-21T17:24:14.919735Z",
     "iopub.status.busy": "2024-04-21T17:24:14.919315Z",
     "iopub.status.idle": "2024-04-21T17:24:15.181803Z",
     "shell.execute_reply": "2024-04-21T17:24:15.180592Z"
    },
    "papermill": {
     "duration": 0.284579,
     "end_time": "2024-04-21T17:24:15.184517",
     "exception": false,
     "start_time": "2024-04-21T17:24:14.899938",
     "status": "completed"
    },
    "tags": []
   },
   "outputs": [],
   "source": [
    "# Target Class distribution\n",
    "plt.hist(df['Label'], bins=[0, 0.3,0.7,1], edgecolor='black') # Specify bin \n",
    "plt.xticks([0, 1], labels = ['BENIGN=0', 'Attack=1'])\n",
    "plt.xlabel(\"Classes\")\n",
    "plt.ylabel(\"Count\")\n",
    "plt.show()\n",
    "df['Label'].value_counts()"
   ]
  },
  {
   "cell_type": "code",
   "execution_count": null,
   "id": "ee0af256",
   "metadata": {
    "execution": {
     "iopub.execute_input": "2024-04-21T17:24:15.221275Z",
     "iopub.status.busy": "2024-04-21T17:24:15.220507Z",
     "iopub.status.idle": "2024-04-21T17:24:15.790223Z",
     "shell.execute_reply": "2024-04-21T17:24:15.789408Z"
    },
    "papermill": {
     "duration": 0.591064,
     "end_time": "2024-04-21T17:24:15.792855",
     "exception": false,
     "start_time": "2024-04-21T17:24:15.201791",
     "status": "completed"
    },
    "tags": []
   },
   "outputs": [],
   "source": [
    "# Split data into features and target variable\n",
    "c=df.shape[1]\n",
    "X = df.iloc[:,:c-1]\n",
    "y = df['Label'].values\n",
    "\n",
    "# Split the data into training and testing sets\n",
    "X_train, X_test, y_train, y_test = train_test_split(X, y, test_size=0.30, random_state=42)\n",
    "\n",
    "\n",
    "print(\"The train dataset size = \",X_train.shape)\n",
    "print(\"The test dataset size = \",X_test.shape)"
   ]
  },
  {
   "cell_type": "markdown",
   "id": "bbedeaf5",
   "metadata": {
    "papermill": {
     "duration": 0.017043,
     "end_time": "2024-04-21T17:24:15.827250",
     "exception": false,
     "start_time": "2024-04-21T17:24:15.810207",
     "status": "completed"
    },
    "tags": []
   },
   "source": [
    "# Training\n",
    "## random forest"
   ]
  },
  {
   "cell_type": "code",
   "execution_count": null,
   "id": "8bbdb257",
   "metadata": {
    "execution": {
     "iopub.execute_input": "2024-04-21T17:24:15.864705Z",
     "iopub.status.busy": "2024-04-21T17:24:15.863650Z",
     "iopub.status.idle": "2024-04-21T17:25:22.272904Z",
     "shell.execute_reply": "2024-04-21T17:25:22.271806Z"
    },
    "papermill": {
     "duration": 66.430902,
     "end_time": "2024-04-21T17:25:22.275606",
     "exception": false,
     "start_time": "2024-04-21T17:24:15.844704",
     "status": "completed"
    },
    "tags": []
   },
   "outputs": [],
   "source": [
    "# uncomment to retrain\n",
    "# !rm -rf /kaggle/working/rf.joblib\n",
    "\n",
    "#load pretrained model\n",
    "try:\n",
    "    with open('/kaggle/working/rf.joblib', 'rb') as f:\n",
    "        rf_model = pickle.load(f)\n",
    "except Exception as e:\n",
    "    print(e)\n",
    "    rf_model = RandomForestClassifier(n_estimators=50, random_state=42)\n",
    "    rf_model.fit(X_train, y_train)\n",
    "    rf_pred = rf_model.predict(X_test)\n",
    "    with open('/kaggle/working/rf.joblib', 'wb') as f:\n",
    "        pickle.dump(rf_model, f)\n",
    "\n",
    "#train and save model\n",
    "rf_pred = rf_model.predict(X_test)\n"
   ]
  },
  {
   "cell_type": "code",
   "execution_count": null,
   "id": "16a814ec",
   "metadata": {
    "execution": {
     "iopub.execute_input": "2024-04-21T17:25:22.376379Z",
     "iopub.status.busy": "2024-04-21T17:25:22.375953Z",
     "iopub.status.idle": "2024-04-21T17:25:23.510534Z",
     "shell.execute_reply": "2024-04-21T17:25:23.509165Z"
    },
    "papermill": {
     "duration": 1.221176,
     "end_time": "2024-04-21T17:25:23.514153",
     "exception": false,
     "start_time": "2024-04-21T17:25:22.292977",
     "status": "completed"
    },
    "tags": []
   },
   "outputs": [],
   "source": [
    "# Getting feature importances from the trained model\n",
    "importances = rf_model.feature_importances_\n",
    "\n",
    "# Getting the indices of features sorted by importance\n",
    "indices = sorted(range(len(importances)), key=lambda i: importances[i], reverse=False)\n",
    "feature_names = [df.columns[i] for i in indices]  # Replace with your column names\n",
    "\n",
    "# Plotting feature importances horizontally\n",
    "plt.figure(figsize=(10, 16))\n",
    "plt.barh(range(X_train.shape[1]), importances[indices], align=\"center\")\n",
    "plt.yticks(range(X_train.shape[1]), feature_names)\n",
    "plt.title(\"Feature Importances\")\n",
    "plt.xlabel(\"Importance\")\n",
    "plt.show()"
   ]
  },
  {
   "cell_type": "code",
   "execution_count": null,
   "id": "f168147e",
   "metadata": {
    "execution": {
     "iopub.execute_input": "2024-04-21T17:25:23.558642Z",
     "iopub.status.busy": "2024-04-21T17:25:23.557593Z",
     "iopub.status.idle": "2024-04-21T17:25:29.034449Z",
     "shell.execute_reply": "2024-04-21T17:25:29.033309Z"
    },
    "papermill": {
     "duration": 5.508443,
     "end_time": "2024-04-21T17:25:29.043858",
     "exception": false,
     "start_time": "2024-04-21T17:25:23.535415",
     "status": "completed"
    },
    "tags": []
   },
   "outputs": [],
   "source": [
    "from sklearn.tree import plot_tree\n",
    "\n",
    "estimator = rf_model.estimators_[0]  # Selecting the first estimator from the random forest model\n",
    "\n",
    "\n",
    "plt.figure(figsize=(50, 20))\n",
    "plot_tree(estimator, filled=True, rounded=True)\n",
    "print(\"Double click to zoom\")\n",
    "plt.show()"
   ]
  },
  {
   "cell_type": "code",
   "execution_count": null,
   "id": "c9061de8",
   "metadata": {
    "execution": {
     "iopub.execute_input": "2024-04-21T17:25:29.104236Z",
     "iopub.status.busy": "2024-04-21T17:25:29.103849Z",
     "iopub.status.idle": "2024-04-21T17:25:29.110571Z",
     "shell.execute_reply": "2024-04-21T17:25:29.109410Z"
    },
    "papermill": {
     "duration": 0.039968,
     "end_time": "2024-04-21T17:25:29.113011",
     "exception": false,
     "start_time": "2024-04-21T17:25:29.073043",
     "status": "completed"
    },
    "tags": []
   },
   "outputs": [],
   "source": [
    "# Function to generate and display a detailed confusion matrix\n",
    "def plot_confusion_matrix(y_true, y_pred, classes, title):\n",
    "    cm = confusion_matrix(y_true, y_pred)\n",
    "    plt.figure(figsize=(8, 6))\n",
    "    sns.heatmap(cm, annot=True, fmt='d', cmap='Blues', xticklabels=classes, yticklabels=classes)\n",
    "    plt.title(title)\n",
    "    plt.xlabel('Predicted')\n",
    "    plt.ylabel('True')\n",
    "    plt.show()"
   ]
  },
  {
   "cell_type": "code",
   "execution_count": null,
   "id": "b578a3aa",
   "metadata": {
    "execution": {
     "iopub.execute_input": "2024-04-21T17:25:29.173302Z",
     "iopub.status.busy": "2024-04-21T17:25:29.172908Z",
     "iopub.status.idle": "2024-04-21T17:25:29.425876Z",
     "shell.execute_reply": "2024-04-21T17:25:29.424677Z"
    },
    "papermill": {
     "duration": 0.286198,
     "end_time": "2024-04-21T17:25:29.428426",
     "exception": false,
     "start_time": "2024-04-21T17:25:29.142228",
     "status": "completed"
    },
    "tags": []
   },
   "outputs": [],
   "source": [
    "# Evaluate Random Forest\n",
    "rf_accuracy = accuracy_score(y_test, rf_pred)\n",
    "rf_f1 = f1_score(y_test, rf_pred)\n",
    "rf_precision = precision_score(y_test, rf_pred)\n",
    "rf_recall = recall_score(y_test, rf_pred)\n",
    "\n",
    "print('\\nRandom Forest Metrics:')\n",
    "print(f'Accuracy: {rf_accuracy:.4f}')\n",
    "print(f'F1 Score: {rf_f1:.4f}')\n",
    "print(f'Precision: {rf_precision:.4f}')\n",
    "print(f'Recall: {rf_recall:.4f}')"
   ]
  },
  {
   "cell_type": "code",
   "execution_count": null,
   "id": "46cce90b",
   "metadata": {
    "execution": {
     "iopub.execute_input": "2024-04-21T17:25:29.490151Z",
     "iopub.status.busy": "2024-04-21T17:25:29.489759Z",
     "iopub.status.idle": "2024-04-21T17:25:29.846604Z",
     "shell.execute_reply": "2024-04-21T17:25:29.845395Z"
    },
    "papermill": {
     "duration": 0.390943,
     "end_time": "2024-04-21T17:25:29.849146",
     "exception": false,
     "start_time": "2024-04-21T17:25:29.458203",
     "status": "completed"
    },
    "tags": []
   },
   "outputs": [],
   "source": [
    "# Confusion Matrix for Random Forest\n",
    "plot_confusion_matrix(y_test, rf_pred, ['Benign', 'DDoS'], 'Random Forest Confusion Matrix')"
   ]
  },
  {
   "cell_type": "markdown",
   "id": "dbeb765d",
   "metadata": {
    "papermill": {
     "duration": 0.030245,
     "end_time": "2024-04-21T17:25:29.910328",
     "exception": false,
     "start_time": "2024-04-21T17:25:29.880083",
     "status": "completed"
    },
    "tags": []
   },
   "source": [
    "## KNN"
   ]
  },
  {
   "cell_type": "code",
   "execution_count": null,
   "id": "1bcc049b",
   "metadata": {
    "execution": {
     "iopub.execute_input": "2024-04-21T17:25:29.974602Z",
     "iopub.status.busy": "2024-04-21T17:25:29.973732Z",
     "iopub.status.idle": "2024-04-21T17:25:30.815852Z",
     "shell.execute_reply": "2024-04-21T17:25:30.814790Z"
    },
    "papermill": {
     "duration": 0.877169,
     "end_time": "2024-04-21T17:25:30.818481",
     "exception": false,
     "start_time": "2024-04-21T17:25:29.941312",
     "status": "completed"
    },
    "tags": []
   },
   "outputs": [],
   "source": [
    "#remove comment to retrain knn:\n",
    "# !rm -rf /kaggle/working/knn.joblib \n",
    "\n",
    "from sklearn.neighbors import KNeighborsClassifier\n",
    "\n",
    "try:\n",
    "    with open('/kaggle/working/knn.joblib', 'rb') as f:\n",
    "        knn = pickle.load(f)\n",
    "except Exception as e:\n",
    "    print(e)\n",
    "    knn = KNeighborsClassifier(n_neighbors=3)\n",
    "    knn.fit(X_train, y_train)\n",
    "    with open('/kaggle/working/knn.joblib', 'wb') as f:\n",
    "        pickle.dump(knn, f)"
   ]
  },
  {
   "cell_type": "code",
   "execution_count": null,
   "id": "61283272",
   "metadata": {
    "execution": {
     "iopub.execute_input": "2024-04-21T17:25:30.881049Z",
     "iopub.status.busy": "2024-04-21T17:25:30.880625Z",
     "iopub.status.idle": "2024-04-21T17:30:06.817200Z",
     "shell.execute_reply": "2024-04-21T17:30:06.815974Z"
    },
    "papermill": {
     "duration": 276.002323,
     "end_time": "2024-04-21T17:30:06.851158",
     "exception": false,
     "start_time": "2024-04-21T17:25:30.848835",
     "status": "completed"
    },
    "tags": []
   },
   "outputs": [],
   "source": [
    "# !rm -rf /kaggle/working/knn_pred.joblib\n",
    "try:\n",
    "    with open('/kaggle/working/knn_pred.joblib', 'rb') as f:\n",
    "        y_pred = pickle.load(f)\n",
    "except Exception as e:\n",
    "    y_pred = knn.predict(X_test)\n",
    "    with open('/kaggle/working/knn_pred.joblib', 'wb') as f:\n",
    "        pickle.dump(y_pred,f)\n",
    "\n",
    "\n",
    "# Evaluate Random Forest\n",
    "knn_accuracy = accuracy_score(y_test, y_pred)\n",
    "knn_f1 = f1_score(y_test, y_pred)\n",
    "knn_precision = precision_score(y_test, y_pred)\n",
    "knn_recall = recall_score(y_test, y_pred)\n",
    "\n",
    "print('\\nKNN Metrics:')\n",
    "print(f'Accuracy: {knn_accuracy:.4f}')\n",
    "print(f'F1 Score: {knn_f1:.4f}')\n",
    "print(f'Precision: {knn_precision:.4f}')\n",
    "print(f'Recall: {knn_recall:.4f}')"
   ]
  },
  {
   "cell_type": "code",
   "execution_count": null,
   "id": "51f430aa",
   "metadata": {
    "execution": {
     "iopub.execute_input": "2024-04-21T17:30:06.916264Z",
     "iopub.status.busy": "2024-04-21T17:30:06.914966Z",
     "iopub.status.idle": "2024-04-21T17:30:07.291887Z",
     "shell.execute_reply": "2024-04-21T17:30:07.290620Z"
    },
    "papermill": {
     "duration": 0.412672,
     "end_time": "2024-04-21T17:30:07.295107",
     "exception": false,
     "start_time": "2024-04-21T17:30:06.882435",
     "status": "completed"
    },
    "tags": []
   },
   "outputs": [],
   "source": [
    "plot_confusion_matrix(y_test, y_pred, ['Benign', 'DDoS'], 'KNN Confusion Matrix')"
   ]
  },
  {
   "cell_type": "markdown",
   "id": "4fa43e0b",
   "metadata": {
    "papermill": {
     "duration": 0.032094,
     "end_time": "2024-04-21T17:30:07.359412",
     "exception": false,
     "start_time": "2024-04-21T17:30:07.327318",
     "status": "completed"
    },
    "tags": []
   },
   "source": [
    "## logistic regression"
   ]
  },
  {
   "cell_type": "code",
   "execution_count": null,
   "id": "efb5b6ba",
   "metadata": {
    "execution": {
     "iopub.execute_input": "2024-04-21T17:30:07.427194Z",
     "iopub.status.busy": "2024-04-21T17:30:07.426685Z",
     "iopub.status.idle": "2024-04-21T17:30:56.084358Z",
     "shell.execute_reply": "2024-04-21T17:30:56.081949Z"
    },
    "papermill": {
     "duration": 48.697591,
     "end_time": "2024-04-21T17:30:56.089630",
     "exception": false,
     "start_time": "2024-04-21T17:30:07.392039",
     "status": "completed"
    },
    "tags": []
   },
   "outputs": [],
   "source": [
    "from sklearn.linear_model import LogisticRegression\n",
    "from sklearn.preprocessing import StandardScaler\n",
    "from sklearn.pipeline import make_pipeline\n",
    "\n",
    "\n",
    "#Standard scaler pipeline for data (scaling data)\n",
    "scaled_lr_model = make_pipeline(StandardScaler(), LogisticRegression(random_state=42,max_iter=1000))\n",
    "\n",
    "scaled_lr_model.fit(X_train, y_train)\n",
    "\n",
    "lr_pred = scaled_lr_model.predict(X_test)"
   ]
  },
  {
   "cell_type": "code",
   "execution_count": null,
   "id": "272b5a8c",
   "metadata": {
    "execution": {
     "iopub.execute_input": "2024-04-21T17:30:56.216658Z",
     "iopub.status.busy": "2024-04-21T17:30:56.216161Z",
     "iopub.status.idle": "2024-04-21T17:30:56.486087Z",
     "shell.execute_reply": "2024-04-21T17:30:56.484696Z"
    },
    "papermill": {
     "duration": 0.326476,
     "end_time": "2024-04-21T17:30:56.488728",
     "exception": false,
     "start_time": "2024-04-21T17:30:56.162252",
     "status": "completed"
    },
    "tags": []
   },
   "outputs": [],
   "source": [
    "# Evaluate Logistic Regression\n",
    "logisticreg_accuracy = accuracy_score(y_test, lr_pred)\n",
    "logisticreg_f1 = f1_score(y_test, lr_pred)\n",
    "logisticreg_precision = precision_score(y_test, lr_pred)\n",
    "logisticreg_recall = recall_score(y_test, lr_pred)\n",
    "\n",
    "print('\\nLogistic Regression Metrics:')\n",
    "print(f'Accuracy: {logisticreg_accuracy:.4f}')\n",
    "print(f'F1 Score: {logisticreg_f1:.4f}')\n",
    "print(f'Precision: {logisticreg_precision:.4f}')\n",
    "print(f'Recall: {logisticreg_recall:.4f}')"
   ]
  },
  {
   "cell_type": "code",
   "execution_count": null,
   "id": "0ecc1f67",
   "metadata": {
    "execution": {
     "iopub.execute_input": "2024-04-21T17:30:56.555958Z",
     "iopub.status.busy": "2024-04-21T17:30:56.555391Z",
     "iopub.status.idle": "2024-04-21T17:30:57.094901Z",
     "shell.execute_reply": "2024-04-21T17:30:57.093949Z"
    },
    "papermill": {
     "duration": 0.576913,
     "end_time": "2024-04-21T17:30:57.097891",
     "exception": false,
     "start_time": "2024-04-21T17:30:56.520978",
     "status": "completed"
    },
    "tags": []
   },
   "outputs": [],
   "source": [
    "plot_confusion_matrix(y_test, y_pred, ['Benign', 'DDoS'], 'Logistic Regression Confusion Matrix')"
   ]
  },
  {
   "cell_type": "markdown",
   "id": "10bf9fe1",
   "metadata": {
    "papermill": {
     "duration": 0.031693,
     "end_time": "2024-04-21T17:30:57.162314",
     "exception": false,
     "start_time": "2024-04-21T17:30:57.130621",
     "status": "completed"
    },
    "tags": []
   },
   "source": [
    "## Voting classifer"
   ]
  },
  {
   "cell_type": "code",
   "execution_count": null,
   "id": "39415481",
   "metadata": {
    "execution": {
     "iopub.execute_input": "2024-04-21T17:30:57.229470Z",
     "iopub.status.busy": "2024-04-21T17:30:57.228286Z",
     "iopub.status.idle": "2024-04-21T17:33:10.982098Z",
     "shell.execute_reply": "2024-04-21T17:33:10.980706Z"
    },
    "papermill": {
     "duration": 133.791463,
     "end_time": "2024-04-21T17:33:10.985571",
     "exception": false,
     "start_time": "2024-04-21T17:30:57.194108",
     "status": "completed"
    },
    "tags": []
   },
   "outputs": [],
   "source": [
    "#Uncomment to retrain model\n",
    "# !rm -rf /kaggle/working/voting_pred.joblib\n",
    "\n",
    "from sklearn.ensemble import VotingClassifier\n",
    "\n",
    "try:\n",
    "    with open('/kaggle/working/voting.joblib', 'rb') as f:\n",
    "        voting_clf = pickle.load(f)\n",
    "except Exception as e:\n",
    "    print(e)\n",
    "    voting_clf=VotingClassifier([(\"logistic regression\",scaled_lr_model),(\"random forest\",rf_model),(\"KNN\",knn)],voting=\"hard\")\n",
    "    voting_clf.fit(X_train,y_train)\n",
    "    with open('/kaggle/working/voting.joblib', 'wb') as f:\n",
    "        pickle.dump(voting_clf,f)"
   ]
  },
  {
   "cell_type": "code",
   "execution_count": null,
   "id": "1b167dcc",
   "metadata": {
    "execution": {
     "iopub.execute_input": "2024-04-21T17:33:11.055812Z",
     "iopub.status.busy": "2024-04-21T17:33:11.055234Z",
     "iopub.status.idle": "2024-04-21T17:42:27.914396Z",
     "shell.execute_reply": "2024-04-21T17:42:27.912990Z"
    },
    "papermill": {
     "duration": 556.930049,
     "end_time": "2024-04-21T17:42:27.949851",
     "exception": false,
     "start_time": "2024-04-21T17:33:11.019802",
     "status": "completed"
    },
    "tags": []
   },
   "outputs": [],
   "source": [
    "# Evaluate Voting classifier\n",
    "# !rm -rf /kaggle/working/voting_pred.joblib\n",
    "try:\n",
    "    with open('/kaggle/working/voting_pred.joblib', 'rb') as f:\n",
    "        y_pred = pickle.load(f)\n",
    "except Exception as e:\n",
    "    y_pred = knn.predict(X_test)\n",
    "    with open('/kaggle/working/voting_pred.joblib', 'wb') as f:\n",
    "        y_pred = voting_clf.predict(X_test)\n",
    "        pickle.dump(y_pred,f)\n",
    "        \n",
    "        \n",
    "voting_accuracy = accuracy_score(y_test, y_pred)\n",
    "voting_f1 = f1_score(y_test, y_pred)\n",
    "voting_precision = precision_score(y_test, y_pred)\n",
    "voting_recall = recall_score(y_test, y_pred)\n",
    "\n",
    "print('\\nVoting classifier Metrics:')\n",
    "print(f'Accuracy: {voting_accuracy:.4f}')\n",
    "print(f'F1 Score: {voting_f1:.4f}')\n",
    "print(f'Precision: {voting_precision:.4f}')\n",
    "print(f'Recall: {voting_recall:.4f}')"
   ]
  },
  {
   "cell_type": "code",
   "execution_count": null,
   "id": "f8e36cd0",
   "metadata": {
    "execution": {
     "iopub.execute_input": "2024-04-21T17:42:28.018811Z",
     "iopub.status.busy": "2024-04-21T17:42:28.018347Z",
     "iopub.status.idle": "2024-04-21T17:42:28.316648Z",
     "shell.execute_reply": "2024-04-21T17:42:28.315025Z"
    },
    "papermill": {
     "duration": 0.336305,
     "end_time": "2024-04-21T17:42:28.319332",
     "exception": false,
     "start_time": "2024-04-21T17:42:27.983027",
     "status": "completed"
    },
    "tags": []
   },
   "outputs": [],
   "source": [
    "plot_confusion_matrix(y_test, y_pred, ['Benign', 'DDoS'], 'Voting Classifier Confusion Matrix')"
   ]
  },
  {
   "cell_type": "markdown",
   "id": "5f2416a7",
   "metadata": {
    "papermill": {
     "duration": 0.03213,
     "end_time": "2024-04-21T17:42:28.386294",
     "exception": false,
     "start_time": "2024-04-21T17:42:28.354164",
     "status": "completed"
    },
    "tags": []
   },
   "source": [
    "# Models Evaluation"
   ]
  },
  {
   "cell_type": "code",
   "execution_count": null,
   "id": "5ee68dbb",
   "metadata": {
    "execution": {
     "iopub.execute_input": "2024-04-21T17:42:28.455047Z",
     "iopub.status.busy": "2024-04-21T17:42:28.453698Z",
     "iopub.status.idle": "2024-04-21T17:42:28.463640Z",
     "shell.execute_reply": "2024-04-21T17:42:28.462726Z"
    },
    "papermill": {
     "duration": 0.047144,
     "end_time": "2024-04-21T17:42:28.466151",
     "exception": false,
     "start_time": "2024-04-21T17:42:28.419007",
     "status": "completed"
    },
    "tags": []
   },
   "outputs": [],
   "source": [
    "print('\\nRandom Forest Metrics:')\n",
    "print(f'Accuracy: {rf_accuracy:.4f}')\n",
    "print(f'F1 Score: {rf_f1:.4f}')\n",
    "print(f'Precision: {rf_precision:.4f}')\n",
    "print(f'Recall: {rf_recall:.4f}')\n",
    "\n",
    "print('\\nKNN Metrics:')\n",
    "print(f'Accuracy: {knn_accuracy:.4f}')\n",
    "print(f'F1 Score: {knn_f1:.4f}')\n",
    "print(f'Precision: {knn_precision:.4f}')\n",
    "print(f'Recall: {knn_recall:.4f}')\n",
    "\n",
    "print('\\nLogistic Regression Metrics:')\n",
    "print(f'Accuracy: {logisticreg_accuracy:.4f}')\n",
    "print(f'F1 Score: {logisticreg_f1:.4f}')\n",
    "print(f'Precision: {logisticreg_precision:.4f}')\n",
    "print(f'Recall: {logisticreg_recall:.4f}')\n",
    "\n",
    "print('\\nVoting classifier Metrics:')\n",
    "print(f'Accuracy: {voting_accuracy:.4f}')\n",
    "print(f'F1 Score: {voting_f1:.4f}')\n",
    "print(f'Precision: {voting_precision:.4f}')\n",
    "print(f'Recall: {voting_recall:.4f}')"
   ]
  },
  {
   "cell_type": "code",
   "execution_count": null,
   "id": "cacb8904",
   "metadata": {
    "execution": {
     "iopub.execute_input": "2024-04-21T17:42:28.535160Z",
     "iopub.status.busy": "2024-04-21T17:42:28.534125Z",
     "iopub.status.idle": "2024-04-21T17:44:25.054768Z",
     "shell.execute_reply": "2024-04-21T17:44:25.053315Z"
    },
    "papermill": {
     "duration": 116.559206,
     "end_time": "2024-04-21T17:44:25.058254",
     "exception": false,
     "start_time": "2024-04-21T17:42:28.499048",
     "status": "completed"
    },
    "tags": []
   },
   "outputs": [],
   "source": [
    "# !rm -rf /kaggle/working/NN.joblib\n",
    "\n",
    "from sklearn.neural_network import MLPClassifier\n",
    "\n",
    "try:\n",
    "    with open('/kaggle/working/NN.joblib', 'rb') as f:\n",
    "        nn_model = pickle.load(f)\n",
    "except Exception as e:\n",
    "    print(e)\n",
    "    nn_model = MLPClassifier(hidden_layer_sizes=(10,), max_iter=100, random_state=42)\n",
    "    nn_model.fit(X_train, y_train)\n",
    "    nn_model.fit(X_train, y_train)\n",
    "    with open('/kaggle/working/NN.joblib', 'wb') as f:\n",
    "        pickle.dump(nn_model,f)"
   ]
  },
  {
   "cell_type": "code",
   "execution_count": null,
   "id": "f44873a7",
   "metadata": {
    "execution": {
     "iopub.execute_input": "2024-04-21T17:44:25.127875Z",
     "iopub.status.busy": "2024-04-21T17:44:25.127428Z",
     "iopub.status.idle": "2024-04-21T17:44:25.589634Z",
     "shell.execute_reply": "2024-04-21T17:44:25.588282Z"
    },
    "papermill": {
     "duration": 0.500383,
     "end_time": "2024-04-21T17:44:25.592266",
     "exception": false,
     "start_time": "2024-04-21T17:44:25.091883",
     "status": "completed"
    },
    "tags": []
   },
   "outputs": [],
   "source": [
    "nn_pred = nn_model.predict(X_test)\n",
    "\n",
    "nn_accuracy = accuracy_score(y_test, nn_pred)\n",
    "nn_f1 = f1_score(y_test, nn_pred)\n",
    "nn_precision = precision_score(y_test, nn_pred)\n",
    "nn_recall = recall_score(y_test, nn_pred)\n",
    "\n",
    "print('\\nNeural Network Metrics:')\n",
    "print(f'Accuracy: {nn_accuracy:.4f}')\n",
    "print(f'F1 Score: {nn_f1:.4f}')\n",
    "print(f'Precision: {nn_precision:.4f}')\n",
    "print(f'Recall: {nn_recall:.4f}')"
   ]
  },
  {
   "cell_type": "code",
   "execution_count": null,
   "id": "226df345",
   "metadata": {
    "execution": {
     "iopub.execute_input": "2024-04-21T17:44:25.662385Z",
     "iopub.status.busy": "2024-04-21T17:44:25.661997Z",
     "iopub.status.idle": "2024-04-21T17:44:25.963019Z",
     "shell.execute_reply": "2024-04-21T17:44:25.961553Z"
    },
    "papermill": {
     "duration": 0.34025,
     "end_time": "2024-04-21T17:44:25.966442",
     "exception": false,
     "start_time": "2024-04-21T17:44:25.626192",
     "status": "completed"
    },
    "tags": []
   },
   "outputs": [],
   "source": [
    "# Confusion Matrix for Neural Network\n",
    "plot_confusion_matrix(y_test, nn_pred, ['Benign', 'DDoS'], 'Neural Network Confusion Matrix')"
   ]
  },
  {
   "cell_type": "code",
   "execution_count": null,
   "id": "a0ba47bc",
   "metadata": {
    "execution": {
     "iopub.execute_input": "2024-04-21T17:44:26.036919Z",
     "iopub.status.busy": "2024-04-21T17:44:26.036468Z",
     "iopub.status.idle": "2024-04-21T17:46:38.578113Z",
     "shell.execute_reply": "2024-04-21T17:46:38.576815Z"
    },
    "papermill": {
     "duration": 132.62006,
     "end_time": "2024-04-21T17:46:38.620305",
     "exception": false,
     "start_time": "2024-04-21T17:44:26.000245",
     "status": "completed"
    },
    "tags": []
   },
   "outputs": [],
   "source": [
    "#voting classifier v2\n",
    "voting_clf2=VotingClassifier([(\"Neurtal Network\",nn_model),(\"random forest\",rf_model),(\"KNN\",knn)],voting=\"hard\")\n",
    "voting_clf2.fit(X_train,y_train)"
   ]
  },
  {
   "cell_type": "code",
   "execution_count": null,
   "id": "c35342ae",
   "metadata": {
    "execution": {
     "iopub.execute_input": "2024-04-21T17:46:38.697004Z",
     "iopub.status.busy": "2024-04-21T17:46:38.696499Z",
     "iopub.status.idle": "2024-04-21T17:51:22.497633Z",
     "shell.execute_reply": "2024-04-21T17:51:22.496207Z"
    },
    "papermill": {
     "duration": 283.880268,
     "end_time": "2024-04-21T17:51:22.537801",
     "exception": false,
     "start_time": "2024-04-21T17:46:38.657533",
     "status": "completed"
    },
    "tags": []
   },
   "outputs": [],
   "source": [
    "y_pred = voting_clf2.predict(X_test)\n",
    "\n",
    "voting_accuracy = accuracy_score(y_test, y_pred)\n",
    "voting_f1 = f1_score(y_test, y_pred)\n",
    "voting_precision = precision_score(y_test, y_pred)\n",
    "voting_recall = recall_score(y_test, y_pred)\n",
    "\n",
    "print('\\nVoting classifier2 Metrics:')\n",
    "print(f'Accuracy: {voting_accuracy:.4f}')\n",
    "print(f'F1 Score: {voting_f1:.4f}')\n",
    "print(f'Precision: {voting_precision:.4f}')\n",
    "print(f'Recall: {voting_recall:.4f}')"
   ]
  },
  {
   "cell_type": "code",
   "execution_count": null,
   "id": "efebfac8",
   "metadata": {
    "execution": {
     "iopub.execute_input": "2024-04-21T17:51:22.614969Z",
     "iopub.status.busy": "2024-04-21T17:51:22.614503Z",
     "iopub.status.idle": "2024-04-21T17:51:22.919449Z",
     "shell.execute_reply": "2024-04-21T17:51:22.917945Z"
    },
    "papermill": {
     "duration": 0.347641,
     "end_time": "2024-04-21T17:51:22.922317",
     "exception": false,
     "start_time": "2024-04-21T17:51:22.574676",
     "status": "completed"
    },
    "tags": []
   },
   "outputs": [],
   "source": [
    "# Confusion Matrix for new voting classifier\n",
    "plot_confusion_matrix(y_test, y_pred, ['Benign', 'DDoS'], 'Voting Classifier v2 Confusion Matrix')"
   ]
  }
 ],
 "metadata": {
  "kaggle": {
   "accelerator": "none",
   "dataSources": [
    {
     "datasetId": 3629354,
     "sourceId": 6308217,
     "sourceType": "datasetVersion"
    }
   ],
   "dockerImageVersionId": 30698,
   "isGpuEnabled": false,
   "isInternetEnabled": true,
   "language": "python",
   "sourceType": "notebook"
  },
  "kernelspec": {
   "display_name": "Python 3",
   "language": "python",
   "name": "python3"
  },
  "language_info": {
   "codemirror_mode": {
    "name": "ipython",
    "version": 3
   },
   "file_extension": ".py",
   "mimetype": "text/x-python",
   "name": "python",
   "nbconvert_exporter": "python",
   "pygments_lexer": "ipython3",
   "version": "3.9.20"
  },
  "papermill": {
   "default_parameters": {},
   "duration": 1650.665331,
   "end_time": "2024-04-21T17:51:24.089759",
   "environment_variables": {},
   "exception": null,
   "input_path": "__notebook__.ipynb",
   "output_path": "__notebook__.ipynb",
   "parameters": {},
   "start_time": "2024-04-21T17:23:53.424428",
   "version": "2.5.0"
  }
 },
 "nbformat": 4,
 "nbformat_minor": 5
}
