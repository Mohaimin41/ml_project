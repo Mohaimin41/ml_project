{
 "cells": [
  {
   "cell_type": "markdown",
   "metadata": {},
   "source": [
    "# Imports"
   ]
  },
  {
   "cell_type": "code",
   "execution_count": 1,
   "metadata": {
    "_cell_guid": "b1076dfc-b9ad-4769-8c92-a6c4dae69d19",
    "_uuid": "8f2839f25d086af736a60e9eeb907d3b93b6e0e5",
    "execution": {
     "iopub.execute_input": "2024-11-12T10:32:35.352557Z",
     "iopub.status.busy": "2024-11-12T10:32:35.352044Z",
     "iopub.status.idle": "2024-11-12T10:32:37.226049Z",
     "shell.execute_reply": "2024-11-12T10:32:37.224821Z",
     "shell.execute_reply.started": "2024-11-12T10:32:35.352509Z"
    },
    "trusted": true
   },
   "outputs": [
    {
     "name": "stdout",
     "output_type": "stream",
     "text": [
      "dataset\\CICIDS2017_improved\\friday.csv\n",
      "dataset\\CICIDS2017_improved\\monday.csv\n",
      "dataset\\CICIDS2017_improved\\thursday.csv\n",
      "dataset\\CICIDS2017_improved\\tuesday.csv\n",
      "dataset\\CICIDS2017_improved\\wednesday.csv\n"
     ]
    }
   ],
   "source": [
    "# This Python 3 environment comes with many helpful analytics libraries installed\n",
    "# It is defined by the kaggle/python Docker image: https://github.com/kaggle/docker-python\n",
    "# For example, here's several helpful packages to load\n",
    "\n",
    "import os\n",
    "import gc\n",
    "\n",
    "import numpy as np # linear algebra\n",
    "import pandas as pd # data processing, CSV file I/O (e.g. pd.read_csv)\n",
    "import seaborn as sns\n",
    "import pickle \n",
    "import matplotlib.pyplot as plt\n",
    "\n",
    "# from scipy import stats\n",
    "\n",
    "from sklearn.model_selection import train_test_split\n",
    "from sklearn.metrics import accuracy_score, recall_score, precision_score, f1_score, confusion_matrix\n",
    "from sklearn.ensemble import RandomForestClassifier, VotingClassifier\n",
    "# from sklearn.neighbors import KNeighborsClassifier\n",
    "# from sklearn.linear_model import LogisticRegression\n",
    "# from sklearn.preprocessing import StandardScaler\n",
    "# from sklearn.pipeline import make_pipeline\n",
    "# from sklearn.tree import plot_tree\n",
    "\n",
    "# # Input data files are available in the read-only \"../input/\" directory\n",
    "# # For example, running this (by clicking run or pressing Shift+Enter) will list all files under the input directory\n",
    "input_files = []\n",
    "\n",
    "for dirname, _, filenames in os.walk('dataset\\CICIDS2017_improved'):\n",
    "    for filename in filenames:\n",
    "        print(os.path.join(dirname, filename))\n",
    "        input_files.append(os.path.join(dirname, filename))\n",
    "        \n",
    "# print(input_files)\n",
    "# print(\"\\nImports done\")\n",
    "\n",
    "# # You can write up to 20GB to the current directory (/kaggle/working/) that gets preserved as output when you create a version using \"Save & Run All\" \n",
    "# # You can also write temporary files to /kaggle/temp/, but they won't be saved outside of the current session"
   ]
  },
  {
   "cell_type": "markdown",
   "metadata": {},
   "source": [
    "# Cleanup for CSECICIDS2018_improved and CICIDS2017_improved"
   ]
  },
  {
   "cell_type": "code",
   "execution_count": 2,
   "metadata": {
    "execution": {
     "iopub.execute_input": "2024-11-12T10:57:51.340585Z",
     "iopub.status.busy": "2024-11-12T10:57:51.339555Z",
     "iopub.status.idle": "2024-11-12T10:57:51.356922Z",
     "shell.execute_reply": "2024-11-12T10:57:51.355691Z",
     "shell.execute_reply.started": "2024-11-12T10:57:51.340536Z"
    },
    "trusted": true
   },
   "outputs": [
    {
     "name": "stdout",
     "output_type": "stream",
     "text": [
      "Functions defined\n"
     ]
    }
   ],
   "source": [
    "def label_mapper(label):\n",
    "    # BENIGN, web_attack, ddos, botnet, infiltration, dos, ssh_bruteforce, ftp_bruteforce, others\n",
    "    if label == 'BENIGN':\n",
    "        return 0\n",
    "    elif label.startswith(\"Web Attack\"):\n",
    "        return 1\n",
    "    elif label.startswith(\"DDoS\"):\n",
    "        return 2\n",
    "    elif label.startswith(\"Botnet\"):\n",
    "        return 3\n",
    "    elif label.startswith(\"Infiltration\") or label.startswith(\"Portscan\") :\n",
    "        return 4\n",
    "    elif label.startswith(\"DoS\"):\n",
    "        return 5\n",
    "    elif label.startswith(\"SSH\"):\n",
    "        return 6\n",
    "    elif label.startswith(\"FTP\"):\n",
    "        return 7\n",
    "    else:\n",
    "        return 8\n",
    "\n",
    "\n",
    "def dataset_cleaner(df):\n",
    "    # change label\n",
    "    df['Label'] = df['Label'].apply(label_mapper)\n",
    "    \n",
    "    # drop all categorical columns\n",
    "    categorical_columns = df.select_dtypes(include=['object'])\n",
    "    df.drop(columns=categorical_columns.columns.values, inplace=True)\n",
    "    # id is unique for all, CISIAS notebook removed attempted category too\n",
    "    df.drop(columns=['id', 'Attempted Category'], inplace=True)\n",
    "    \n",
    "#     print(df.columns.values)\n",
    "    \n",
    "    # drop all inf and other nan values\n",
    "    df.replace([np.inf, -np.inf], np.nan, inplace=True)\n",
    "    df.dropna(axis=0,how='any', inplace=True)\n",
    "    \n",
    "    return df\n",
    "\n",
    "def get_target_features(df, test_size = 0.30):\n",
    "    X = df.drop(['Label'], axis=1)\n",
    "    y = df['Label']\n",
    "    \n",
    "    return train_test_split(X, y, test_size=test_size, random_state=42)\n",
    "\n",
    "print(\"Functions defined\")"
   ]
  },
  {
   "cell_type": "markdown",
   "metadata": {},
   "source": [
    "# Load each file, do label clean up, run random forest  on it"
   ]
  },
  {
   "cell_type": "code",
   "execution_count": 3,
   "metadata": {},
   "outputs": [
    {
     "name": "stdout",
     "output_type": "stream",
     "text": [
      "Initializing RF model\n",
      "1/5 CURRENT FILE: dataset\\CICIDS2017_improved\\friday.csv\n",
      "\n",
      "LOADED FILE dataset\\CICIDS2017_improved\\friday.csv, STARTING CLEANUP\n",
      "\n",
      "CLEANUP DONE, STARTING SPLIT\n",
      "\n",
      "DONE WRITING TEST SETS TO FILES, STARTING TRAIN\n",
      "\n",
      "RUNNING RF MODEL TRAIN...\n",
      "\n",
      "RF MODEL TRAINED ON FILE: dataset\\CICIDS2017_improved\\friday.csv \n",
      "\n",
      "\n",
      "2/5 CURRENT FILE: dataset\\CICIDS2017_improved\\monday.csv\n",
      "\n",
      "LOADED FILE dataset\\CICIDS2017_improved\\monday.csv, STARTING CLEANUP\n",
      "\n",
      "CLEANUP DONE, STARTING SPLIT\n",
      "\n",
      "DONE WRITING TEST SETS TO FILES, STARTING TRAIN\n",
      "\n",
      "RUNNING RF MODEL TRAIN...\n",
      "\n",
      "RF MODEL TRAINED ON FILE: dataset\\CICIDS2017_improved\\monday.csv \n",
      "\n",
      "\n",
      "3/5 CURRENT FILE: dataset\\CICIDS2017_improved\\thursday.csv\n",
      "\n",
      "LOADED FILE dataset\\CICIDS2017_improved\\thursday.csv, STARTING CLEANUP\n",
      "\n",
      "CLEANUP DONE, STARTING SPLIT\n",
      "\n",
      "DONE WRITING TEST SETS TO FILES, STARTING TRAIN\n",
      "\n",
      "RUNNING RF MODEL TRAIN...\n",
      "\n",
      "RF MODEL TRAINED ON FILE: dataset\\CICIDS2017_improved\\thursday.csv \n",
      "\n",
      "\n",
      "4/5 CURRENT FILE: dataset\\CICIDS2017_improved\\tuesday.csv\n",
      "\n",
      "LOADED FILE dataset\\CICIDS2017_improved\\tuesday.csv, STARTING CLEANUP\n",
      "\n",
      "CLEANUP DONE, STARTING SPLIT\n",
      "\n",
      "DONE WRITING TEST SETS TO FILES, STARTING TRAIN\n",
      "\n",
      "RUNNING RF MODEL TRAIN...\n",
      "\n",
      "RF MODEL TRAINED ON FILE: dataset\\CICIDS2017_improved\\tuesday.csv \n",
      "\n",
      "\n",
      "5/5 CURRENT FILE: dataset\\CICIDS2017_improved\\wednesday.csv\n",
      "\n",
      "LOADED FILE dataset\\CICIDS2017_improved\\wednesday.csv, STARTING CLEANUP\n",
      "\n",
      "CLEANUP DONE, STARTING SPLIT\n",
      "\n",
      "DONE WRITING TEST SETS TO FILES, STARTING TRAIN\n",
      "\n",
      "RUNNING RF MODEL TRAIN...\n",
      "\n",
      "RF MODEL TRAINED ON FILE: dataset\\CICIDS2017_improved\\wednesday.csv \n",
      "\n",
      "\n",
      "5/5 files worked on\n",
      "\n",
      "\n"
     ]
    },
    {
     "data": {
      "text/plain": [
       "0"
      ]
     },
     "execution_count": 3,
     "metadata": {},
     "output_type": "execute_result"
    }
   ],
   "source": [
    "# we will add to these 3 lists test set and predictions for all csv\n",
    "# then we will merge them in one pandas object\n",
    "# then we can do metrics on the dataset as a whole\n",
    "# pros: will get whole dataset metrics\n",
    "# cons: the 3 list and merged object may overflow 30 gb ram (praying it wont)\n",
    "X_test_sets = []\n",
    "y_test_sets = []\n",
    "\n",
    "# MODELS\n",
    "print(\"Initializing RF model\")\n",
    "rf_model = RandomForestClassifier(n_estimators=50, random_state=42)\n",
    "\n",
    "i = 0\n",
    "\n",
    "for f in input_files:\n",
    "    \n",
    "    i += 1\n",
    "        \n",
    "    print(f\"{i}/{len(input_files)} CURRENT FILE: {f}\\n\")\n",
    "    \n",
    "    df = pd.read_csv(f)\n",
    "    \n",
    "    print(f\"LOADED FILE {f}, STARTING CLEANUP\\n\")\n",
    "    \n",
    "    df = dataset_cleaner(df)\n",
    "    \n",
    "    print(f\"CLEANUP DONE, STARTING SPLIT\\n\")\n",
    "    \n",
    "    X_train, X_test, y_train, y_test = get_target_features(df, 0.30)\n",
    "    \n",
    "    # no need for df now\n",
    "    df = None\n",
    "    gc.collect()\n",
    "    \n",
    "    X_test.to_csv(f\"test_chunks/{i}X_test.csv\", index=False)\n",
    "    y_test.to_csv(f\"test_chunks/{i}y_test.csv\", index=False)\n",
    "    \n",
    "    # no need for the test sets either\n",
    "    del X_test\n",
    "    del y_test\n",
    "    gc.collect()\n",
    "    \n",
    "    print(\"DONE WRITING TEST SETS TO FILES, STARTING TRAIN\\n\")\n",
    "    \n",
    "    # rf\n",
    "    print(\"RUNNING RF MODEL TRAIN...\\n\")\n",
    "    \n",
    "    rf_model.fit(X_train, y_train)\n",
    "    \n",
    "    del X_train\n",
    "    del y_train\n",
    "    gc.collect()\n",
    "    \n",
    "    print(f\"RF MODEL TRAINED ON FILE: {f} \\n\\n\")\n",
    "    \n",
    "\n",
    "print(f\"{i}/{len(input_files)} files worked on\\n\\n\")\n",
    "\n",
    "# clear memory\n",
    "df = None\n",
    "gc.collect()"
   ]
  },
  {
   "cell_type": "markdown",
   "metadata": {},
   "source": [
    "# Prepare outputs for metric calculation"
   ]
  },
  {
   "cell_type": "code",
   "execution_count": 5,
   "metadata": {
    "execution": {
     "iopub.execute_input": "2024-11-12T18:14:54.099200Z",
     "iopub.status.busy": "2024-11-12T18:14:54.098694Z",
     "iopub.status.idle": "2024-11-12T18:14:54.535359Z",
     "shell.execute_reply": "2024-11-12T18:14:54.533376Z",
     "shell.execute_reply.started": "2024-11-12T18:14:54.099137Z"
    },
    "trusted": true
   },
   "outputs": [
    {
     "name": "stdout",
     "output_type": "stream",
     "text": [
      "READING X TEST SETS AND PREDICTING\n",
      "\n",
      "Reading X_test file 1/5\n",
      "\n",
      "Read 1-th X_test file, shape: (164268, 84)\n",
      "Predicting and appending...\n",
      "Done reading and predictiong on X_test file 1/5\n",
      "\n",
      "Reading X_test file 2/5\n",
      "\n",
      "Read 2-th X_test file, shape: (111487, 84)\n",
      "Predicting and appending...\n",
      "Done reading and predictiong on X_test file 2/5\n",
      "\n",
      "Reading X_test file 3/5\n",
      "\n",
      "Read 3-th X_test file, shape: (108623, 84)\n",
      "Predicting and appending...\n",
      "Done reading and predictiong on X_test file 3/5\n",
      "\n",
      "Reading X_test file 4/5\n",
      "\n",
      "Read 4-th X_test file, shape: (96624, 84)\n",
      "Predicting and appending...\n",
      "Done reading and predictiong on X_test file 4/5\n",
      "\n",
      "Reading X_test file 5/5\n",
      "\n",
      "Read 5-th X_test file, shape: (148992, 84)\n",
      "Predicting and appending...\n",
      "Done reading and predictiong on X_test file 5/5\n",
      "\n",
      "PREDICTION DONE USING RF MODELS: \n",
      "(629994,)\n",
      "\n",
      "READING y_test FILES\n",
      "\n",
      "Reading y_test file 1/5\n",
      "\n",
      "Read 1-th y_test file, shape: (164268, 1)\n",
      "Appending...\n",
      "Done reading and adding y_test file 1/5\n",
      "\n",
      "Reading y_test file 2/5\n",
      "\n",
      "Read 2-th y_test file, shape: (111487, 1)\n",
      "Appending...\n",
      "Done reading and adding y_test file 2/5\n",
      "\n",
      "Reading y_test file 3/5\n",
      "\n",
      "Read 3-th y_test file, shape: (108623, 1)\n",
      "Appending...\n",
      "Done reading and adding y_test file 3/5\n",
      "\n",
      "Reading y_test file 4/5\n",
      "\n",
      "Read 4-th y_test file, shape: (96624, 1)\n",
      "Appending...\n",
      "Done reading and adding y_test file 4/5\n",
      "\n",
      "Reading y_test file 5/5\n",
      "\n",
      "Read 5-th y_test file, shape: (148992, 1)\n",
      "Appending...\n",
      "Done reading and adding y_test file 5/5\n",
      "\n",
      "DONE READING y_test FILES: \n",
      "(629994, 1)\n"
     ]
    }
   ],
   "source": [
    "print(\"READING X TEST SETS AND PREDICTING\\n\")\n",
    "gc.collect()\n",
    "\n",
    "rf_predictions = []\n",
    "y_tests = []\n",
    "\n",
    "for curr in range(1,i+1):\n",
    "    print(f\"Reading X_test file {curr}/{i}\\n\")\n",
    "\n",
    "    df_X = pd.read_csv(f\"test_chunks/{curr}X_test.csv\")\n",
    "    \n",
    "    print(f\"Read {curr}-th X_test file, shape: {df_X.shape}\\nPredicting and appending...\")\n",
    "    \n",
    "    pred = rf_model.predict(df_X)\n",
    "    rf_predictions.append(pred)\n",
    "    \n",
    "    del df_X \n",
    "    gc.collect()\n",
    "    \n",
    "    print(f\"Done reading and predictiong on X_test file {curr}/{i}\\n\")\n",
    "    \n",
    "\n",
    "rf_predictions_joined = np.concatenate(rf_predictions)\n",
    "\n",
    "# remove prediction list\n",
    "del rf_predictions\n",
    "gc.collect()\n",
    "\n",
    "print(\"PREDICTION DONE USING RF MODELS: \")\n",
    "print( rf_predictions_joined.shape)\n",
    "\n",
    "print(\"\\nREADING y_test FILES\\n\")\n",
    "\n",
    "for curr in range(1,i+1):\n",
    "    print(f\"Reading y_test file {curr}/{i}\\n\")\n",
    "\n",
    "    df_y = pd.read_csv(f\"test_chunks/{curr}y_test.csv\")\n",
    "    \n",
    "    print(f\"Read {curr}-th y_test file, shape: {df_y.shape}\\nAppending...\")\n",
    "    \n",
    "    y_tests.append(df_y)\n",
    "    \n",
    "    del df_y\n",
    "    gc.collect()\n",
    "    \n",
    "    print(f\"Done reading and adding y_test file {curr}/{i}\\n\")\n",
    "    \n",
    "y_test_sets_joined = pd.concat(y_tests)\n",
    "\n",
    "# remove y_tests\n",
    "del y_tests\n",
    "gc.collect()\n",
    "\n",
    "\n",
    "print(\"DONE READING y_test FILES: \")\n",
    "print(y_test_sets_joined.shape)"
   ]
  },
  {
   "cell_type": "markdown",
   "metadata": {},
   "source": [
    "# Metrics"
   ]
  },
  {
   "cell_type": "code",
   "execution_count": 6,
   "metadata": {
    "execution": {
     "iopub.execute_input": "2024-11-12T10:55:44.508695Z",
     "iopub.status.busy": "2024-11-12T10:55:44.508222Z",
     "iopub.status.idle": "2024-11-12T10:55:44.690416Z",
     "shell.execute_reply": "2024-11-12T10:55:44.689221Z",
     "shell.execute_reply.started": "2024-11-12T10:55:44.508651Z"
    },
    "trusted": true
   },
   "outputs": [
    {
     "name": "stdout",
     "output_type": "stream",
     "text": [
      "rf METRICS: \n",
      "\n",
      "ACCURACY: \t 0.8383\n",
      "F1 SCORE: \t 0.2945\n",
      "PRECISION: \t 0.2797\n",
      "RECALL: \t 0.3194\n"
     ]
    },
    {
     "name": "stderr",
     "output_type": "stream",
     "text": [
      "c:\\Users\\ahmed\\miniconda3\\envs\\tf\\lib\\site-packages\\sklearn\\metrics\\_classification.py:1531: UndefinedMetricWarning: Precision is ill-defined and being set to 0.0 in labels with no predicted samples. Use `zero_division` parameter to control this behavior.\n",
      "  _warn_prf(average, modifier, f\"{metric.capitalize()} is\", len(result))\n"
     ]
    }
   ],
   "source": [
    "rf_accuracy = accuracy_score(y_test_sets_joined, rf_predictions_joined)\n",
    "rf_f1 = f1_score(y_test_sets_joined, rf_predictions_joined, average='macro')\n",
    "rf_precision = precision_score(y_test_sets_joined, rf_predictions_joined, average='macro')\n",
    "rf_recall = recall_score(y_test_sets_joined, rf_predictions_joined, average='macro')\n",
    "\n",
    "print(\"rf METRICS: \\n\")\n",
    "print(f\"ACCURACY: \\t {rf_accuracy:.4f}\")\n",
    "print(f\"F1 SCORE: \\t {rf_f1:.4f}\")\n",
    "print(f\"PRECISION: \\t {rf_precision:.4f}\")\n",
    "print(f\"RECALL: \\t {rf_recall:.4f}\")"
   ]
  },
  {
   "cell_type": "markdown",
   "metadata": {},
   "source": [
    "# Plots"
   ]
  },
  {
   "cell_type": "code",
   "execution_count": 7,
   "metadata": {
    "execution": {
     "iopub.execute_input": "2024-11-12T10:55:49.563158Z",
     "iopub.status.busy": "2024-11-12T10:55:49.562075Z",
     "iopub.status.idle": "2024-11-12T10:55:50.130866Z",
     "shell.execute_reply": "2024-11-12T10:55:50.129659Z",
     "shell.execute_reply.started": "2024-11-12T10:55:49.563097Z"
    },
    "trusted": true
   },
   "outputs": [
    {
     "data": {
      "image/png": "[encoded data removed]",
      "text/plain": [
       "<Figure size 1400x1400 with 2 Axes>"
      ]
     },
     "metadata": {},
     "output_type": "display_data"
    }
   ],
   "source": [
    "# Confusion Matrix\n",
    "classes = [\"BENIGN\", \"Web Attack\", \"DDoS\", \"Botnet\", \"Infiltration\", \"DoS\", \"SSH Bruteforce\", \"FTP Bruteforce\", \"Others\"]\n",
    "title = \"Confusion Matrix for rf Classifier\"\n",
    "\n",
    "cm = confusion_matrix(y_test_sets_joined, rf_predictions_joined)\n",
    "plt.figure(figsize=(14, 14))\n",
    "sns.heatmap(cm, annot=True, fmt='d', cmap='Blues', xticklabels=classes, yticklabels=classes)\n",
    "plt.title(title)\n",
    "plt.xlabel('Predicted')\n",
    "plt.ylabel('True')\n",
    "plt.show()"
   ]
  },
  {
   "cell_type": "code",
   "execution_count": 8,
   "metadata": {},
   "outputs": [],
   "source": [
    "def save_model(model, filename=\"model.pkl\"):\n",
    "    with open(filename, \"wb\") as file:\n",
    "        pickle.dump(model, file)\n",
    "    print(f\"Model saved to {filename}\")"
   ]
  },
  {
   "cell_type": "code",
   "execution_count": 9,
   "metadata": {},
   "outputs": [],
   "source": [
    "def load_model(filename=\"model.pkl\"):\n",
    "    with open(filename, \"rb\") as file:\n",
    "        model = pickle.load(file)\n",
    "    print(f\"Model loaded from {filename}\")\n",
    "    return model"
   ]
  },
  {
   "cell_type": "code",
   "execution_count": 10,
   "metadata": {},
   "outputs": [
    {
     "name": "stdout",
     "output_type": "stream",
     "text": [
      "Model saved to models/rf.pickle\n"
     ]
    }
   ],
   "source": [
    "# Save to a pickle file            \n",
    "save_model(rf_model,\"models/rf.pickle\")"
   ]
  }
 ],
 "metadata": {
  "kaggle": {
   "accelerator": "none",
   "dataSources": [
    {
     "datasetId": 3629354,
     "sourceId": 6308217,
     "sourceType": "datasetVersion"
    }
   ],
   "dockerImageVersionId": 30786,
   "isGpuEnabled": false,
   "isInternetEnabled": true,
   "language": "python",
   "sourceType": "notebook"
  },
  "kernelspec": {
   "display_name": "Python 3",
   "language": "python",
   "name": "python3"
  },
  "language_info": {
   "codemirror_mode": {
    "name": "ipython",
    "version": 3
   },
   "file_extension": ".py",
   "mimetype": "text/x-python",
   "name": "python",
   "nbconvert_exporter": "python",
   "pygments_lexer": "ipython3",
   "version": "3.9.20"
  }
 },
 "nbformat": 4,
 "nbformat_minor": 4
}
